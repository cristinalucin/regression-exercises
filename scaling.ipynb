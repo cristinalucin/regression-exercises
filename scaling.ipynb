{
 "cells": [
  {
   "cell_type": "code",
   "execution_count": 2,
   "id": "f0620d7e",
   "metadata": {},
   "outputs": [],
   "source": [
    "#DS imports\n",
    "import matplotlib.pyplot as plt\n",
    "import numpy as np\n",
    "import pandas as pd\n",
    "import pydataset\n",
    "import seaborn as sns\n",
    "from scipy import stats\n",
    "\n",
    "\n",
    "#Modeling and scaling\n",
    "import sklearn\n",
    "from sklearn.neighbors import KNeighborsClassifier\n",
    "from sklearn.preprocessing import MinMaxScaler, StandardScaler, RobustScaler\n",
    "from sklearn.model_selection import train_test_split\n",
    "\n",
    "#My files\n",
    "import env\n",
    "import wrangle as w\n",
    "import model as m\n",
    "\n",
    "np.random.seed(123)"
   ]
  },
  {
   "cell_type": "markdown",
   "id": "abb12509",
   "metadata": {},
   "source": [
    "## Exercises: Getting Data"
   ]
  },
  {
   "cell_type": "code",
   "execution_count": 3,
   "id": "b2fe7856",
   "metadata": {},
   "outputs": [],
   "source": [
    "#get zillow data\n",
    "df =w.get_zillow_data()"
   ]
  },
  {
   "cell_type": "code",
   "execution_count": 4,
   "id": "0eec606d",
   "metadata": {},
   "outputs": [
    {
     "data": {
      "text/html": [
       "<div>\n",
       "<style scoped>\n",
       "    .dataframe tbody tr th:only-of-type {\n",
       "        vertical-align: middle;\n",
       "    }\n",
       "\n",
       "    .dataframe tbody tr th {\n",
       "        vertical-align: top;\n",
       "    }\n",
       "\n",
       "    .dataframe thead th {\n",
       "        text-align: right;\n",
       "    }\n",
       "</style>\n",
       "<table border=\"1\" class=\"dataframe\">\n",
       "  <thead>\n",
       "    <tr style=\"text-align: right;\">\n",
       "      <th></th>\n",
       "      <th>bedroomcnt</th>\n",
       "      <th>bathroomcnt</th>\n",
       "      <th>calculatedfinishedsquarefeet</th>\n",
       "      <th>taxvaluedollarcnt</th>\n",
       "      <th>yearbuilt</th>\n",
       "      <th>taxamount</th>\n",
       "      <th>fips</th>\n",
       "    </tr>\n",
       "  </thead>\n",
       "  <tbody>\n",
       "    <tr>\n",
       "      <th>0</th>\n",
       "      <td>0.0</td>\n",
       "      <td>0.0</td>\n",
       "      <td>NaN</td>\n",
       "      <td>27516.0</td>\n",
       "      <td>NaN</td>\n",
       "      <td>NaN</td>\n",
       "      <td>6037.0</td>\n",
       "    </tr>\n",
       "    <tr>\n",
       "      <th>1</th>\n",
       "      <td>0.0</td>\n",
       "      <td>0.0</td>\n",
       "      <td>NaN</td>\n",
       "      <td>10.0</td>\n",
       "      <td>NaN</td>\n",
       "      <td>NaN</td>\n",
       "      <td>6037.0</td>\n",
       "    </tr>\n",
       "    <tr>\n",
       "      <th>2</th>\n",
       "      <td>0.0</td>\n",
       "      <td>0.0</td>\n",
       "      <td>NaN</td>\n",
       "      <td>10.0</td>\n",
       "      <td>NaN</td>\n",
       "      <td>NaN</td>\n",
       "      <td>6037.0</td>\n",
       "    </tr>\n",
       "    <tr>\n",
       "      <th>3</th>\n",
       "      <td>0.0</td>\n",
       "      <td>0.0</td>\n",
       "      <td>NaN</td>\n",
       "      <td>2108.0</td>\n",
       "      <td>NaN</td>\n",
       "      <td>174.21</td>\n",
       "      <td>6037.0</td>\n",
       "    </tr>\n",
       "    <tr>\n",
       "      <th>4</th>\n",
       "      <td>4.0</td>\n",
       "      <td>2.0</td>\n",
       "      <td>3633.0</td>\n",
       "      <td>296425.0</td>\n",
       "      <td>2005.0</td>\n",
       "      <td>6941.39</td>\n",
       "      <td>6037.0</td>\n",
       "    </tr>\n",
       "  </tbody>\n",
       "</table>\n",
       "</div>"
      ],
      "text/plain": [
       "   bedroomcnt  bathroomcnt  calculatedfinishedsquarefeet  taxvaluedollarcnt  \\\n",
       "0         0.0          0.0                           NaN            27516.0   \n",
       "1         0.0          0.0                           NaN               10.0   \n",
       "2         0.0          0.0                           NaN               10.0   \n",
       "3         0.0          0.0                           NaN             2108.0   \n",
       "4         4.0          2.0                        3633.0           296425.0   \n",
       "\n",
       "   yearbuilt  taxamount    fips  \n",
       "0        NaN        NaN  6037.0  \n",
       "1        NaN        NaN  6037.0  \n",
       "2        NaN        NaN  6037.0  \n",
       "3        NaN     174.21  6037.0  \n",
       "4     2005.0    6941.39  6037.0  "
      ]
     },
     "execution_count": 4,
     "metadata": {},
     "output_type": "execute_result"
    }
   ],
   "source": [
    "df.head()"
   ]
  },
  {
   "cell_type": "code",
   "execution_count": 5,
   "id": "c368e214",
   "metadata": {},
   "outputs": [],
   "source": [
    "#Clean Zillow data\n",
    "df = w.clean_zillow(df)"
   ]
  },
  {
   "cell_type": "code",
   "execution_count": 6,
   "id": "2694aed1",
   "metadata": {},
   "outputs": [
    {
     "name": "stdout",
     "output_type": "stream",
     "text": [
      "<class 'pandas.core.frame.DataFrame'>\n",
      "RangeIndex: 2152864 entries, 0 to 2152863\n",
      "Data columns (total 7 columns):\n",
      " #   Column      Dtype  \n",
      "---  ------      -----  \n",
      " 0   bedrooms    float64\n",
      " 1   bathrooms   float64\n",
      " 2   area        float64\n",
      " 3   tax_value   float64\n",
      " 4   year_built  float64\n",
      " 5   tax_amount  float64\n",
      " 6   fips        float64\n",
      "dtypes: float64(7)\n",
      "memory usage: 115.0 MB\n"
     ]
    }
   ],
   "source": [
    "df.info()"
   ]
  },
  {
   "cell_type": "code",
   "execution_count": 7,
   "id": "fa62af12",
   "metadata": {},
   "outputs": [
    {
     "data": {
      "text/html": [
       "<div>\n",
       "<style scoped>\n",
       "    .dataframe tbody tr th:only-of-type {\n",
       "        vertical-align: middle;\n",
       "    }\n",
       "\n",
       "    .dataframe tbody tr th {\n",
       "        vertical-align: top;\n",
       "    }\n",
       "\n",
       "    .dataframe thead th {\n",
       "        text-align: right;\n",
       "    }\n",
       "</style>\n",
       "<table border=\"1\" class=\"dataframe\">\n",
       "  <thead>\n",
       "    <tr style=\"text-align: right;\">\n",
       "      <th></th>\n",
       "      <th>bedrooms</th>\n",
       "      <th>bathrooms</th>\n",
       "      <th>area</th>\n",
       "      <th>tax_value</th>\n",
       "      <th>year_built</th>\n",
       "      <th>tax_amount</th>\n",
       "      <th>fips</th>\n",
       "    </tr>\n",
       "  </thead>\n",
       "  <tbody>\n",
       "    <tr>\n",
       "      <th>0</th>\n",
       "      <td>0.0</td>\n",
       "      <td>0.0</td>\n",
       "      <td>NaN</td>\n",
       "      <td>27516.0</td>\n",
       "      <td>NaN</td>\n",
       "      <td>NaN</td>\n",
       "      <td>6037.0</td>\n",
       "    </tr>\n",
       "    <tr>\n",
       "      <th>1</th>\n",
       "      <td>0.0</td>\n",
       "      <td>0.0</td>\n",
       "      <td>NaN</td>\n",
       "      <td>10.0</td>\n",
       "      <td>NaN</td>\n",
       "      <td>NaN</td>\n",
       "      <td>6037.0</td>\n",
       "    </tr>\n",
       "    <tr>\n",
       "      <th>2</th>\n",
       "      <td>0.0</td>\n",
       "      <td>0.0</td>\n",
       "      <td>NaN</td>\n",
       "      <td>10.0</td>\n",
       "      <td>NaN</td>\n",
       "      <td>NaN</td>\n",
       "      <td>6037.0</td>\n",
       "    </tr>\n",
       "    <tr>\n",
       "      <th>3</th>\n",
       "      <td>0.0</td>\n",
       "      <td>0.0</td>\n",
       "      <td>NaN</td>\n",
       "      <td>2108.0</td>\n",
       "      <td>NaN</td>\n",
       "      <td>174.21</td>\n",
       "      <td>6037.0</td>\n",
       "    </tr>\n",
       "    <tr>\n",
       "      <th>4</th>\n",
       "      <td>4.0</td>\n",
       "      <td>2.0</td>\n",
       "      <td>3633.0</td>\n",
       "      <td>296425.0</td>\n",
       "      <td>2005.0</td>\n",
       "      <td>6941.39</td>\n",
       "      <td>6037.0</td>\n",
       "    </tr>\n",
       "  </tbody>\n",
       "</table>\n",
       "</div>"
      ],
      "text/plain": [
       "   bedrooms  bathrooms    area  tax_value  year_built  tax_amount    fips\n",
       "0       0.0        0.0     NaN    27516.0         NaN         NaN  6037.0\n",
       "1       0.0        0.0     NaN       10.0         NaN         NaN  6037.0\n",
       "2       0.0        0.0     NaN       10.0         NaN         NaN  6037.0\n",
       "3       0.0        0.0     NaN     2108.0         NaN      174.21  6037.0\n",
       "4       4.0        2.0  3633.0   296425.0      2005.0     6941.39  6037.0"
      ]
     },
     "execution_count": 7,
     "metadata": {},
     "output_type": "execute_result"
    }
   ],
   "source": [
    "df.head()"
   ]
  },
  {
   "cell_type": "code",
   "execution_count": 8,
   "id": "c0527193",
   "metadata": {},
   "outputs": [],
   "source": [
    "#Drop null values for zillow\n",
    "df = df.dropna()"
   ]
  },
  {
   "cell_type": "code",
   "execution_count": 9,
   "id": "73a91a15",
   "metadata": {},
   "outputs": [
    {
     "data": {
      "text/html": [
       "<div>\n",
       "<style scoped>\n",
       "    .dataframe tbody tr th:only-of-type {\n",
       "        vertical-align: middle;\n",
       "    }\n",
       "\n",
       "    .dataframe tbody tr th {\n",
       "        vertical-align: top;\n",
       "    }\n",
       "\n",
       "    .dataframe thead th {\n",
       "        text-align: right;\n",
       "    }\n",
       "</style>\n",
       "<table border=\"1\" class=\"dataframe\">\n",
       "  <thead>\n",
       "    <tr style=\"text-align: right;\">\n",
       "      <th></th>\n",
       "      <th>bedrooms</th>\n",
       "      <th>bathrooms</th>\n",
       "      <th>area</th>\n",
       "      <th>tax_value</th>\n",
       "      <th>year_built</th>\n",
       "      <th>tax_amount</th>\n",
       "      <th>fips</th>\n",
       "    </tr>\n",
       "  </thead>\n",
       "  <tbody>\n",
       "    <tr>\n",
       "      <th>4</th>\n",
       "      <td>4.0</td>\n",
       "      <td>2.0</td>\n",
       "      <td>3633.0</td>\n",
       "      <td>296425.0</td>\n",
       "      <td>2005.0</td>\n",
       "      <td>6941.39</td>\n",
       "      <td>6037.0</td>\n",
       "    </tr>\n",
       "    <tr>\n",
       "      <th>6</th>\n",
       "      <td>3.0</td>\n",
       "      <td>4.0</td>\n",
       "      <td>1620.0</td>\n",
       "      <td>847770.0</td>\n",
       "      <td>2011.0</td>\n",
       "      <td>10244.94</td>\n",
       "      <td>6037.0</td>\n",
       "    </tr>\n",
       "    <tr>\n",
       "      <th>7</th>\n",
       "      <td>3.0</td>\n",
       "      <td>2.0</td>\n",
       "      <td>2077.0</td>\n",
       "      <td>646760.0</td>\n",
       "      <td>1926.0</td>\n",
       "      <td>7924.68</td>\n",
       "      <td>6037.0</td>\n",
       "    </tr>\n",
       "    <tr>\n",
       "      <th>11</th>\n",
       "      <td>0.0</td>\n",
       "      <td>0.0</td>\n",
       "      <td>1200.0</td>\n",
       "      <td>5328.0</td>\n",
       "      <td>1972.0</td>\n",
       "      <td>91.60</td>\n",
       "      <td>6037.0</td>\n",
       "    </tr>\n",
       "    <tr>\n",
       "      <th>14</th>\n",
       "      <td>0.0</td>\n",
       "      <td>0.0</td>\n",
       "      <td>171.0</td>\n",
       "      <td>6920.0</td>\n",
       "      <td>1973.0</td>\n",
       "      <td>255.17</td>\n",
       "      <td>6037.0</td>\n",
       "    </tr>\n",
       "  </tbody>\n",
       "</table>\n",
       "</div>"
      ],
      "text/plain": [
       "    bedrooms  bathrooms    area  tax_value  year_built  tax_amount    fips\n",
       "4        4.0        2.0  3633.0   296425.0      2005.0     6941.39  6037.0\n",
       "6        3.0        4.0  1620.0   847770.0      2011.0    10244.94  6037.0\n",
       "7        3.0        2.0  2077.0   646760.0      1926.0     7924.68  6037.0\n",
       "11       0.0        0.0  1200.0     5328.0      1972.0       91.60  6037.0\n",
       "14       0.0        0.0   171.0     6920.0      1973.0      255.17  6037.0"
      ]
     },
     "execution_count": 9,
     "metadata": {},
     "output_type": "execute_result"
    }
   ],
   "source": [
    "df.head()"
   ]
  },
  {
   "cell_type": "code",
   "execution_count": 10,
   "id": "f13fa0d6",
   "metadata": {},
   "outputs": [
    {
     "name": "stdout",
     "output_type": "stream",
     "text": [
      "<class 'pandas.core.frame.DataFrame'>\n",
      "Int64Index: 2140235 entries, 4 to 2152863\n",
      "Data columns (total 7 columns):\n",
      " #   Column      Dtype  \n",
      "---  ------      -----  \n",
      " 0   bedrooms    float64\n",
      " 1   bathrooms   float64\n",
      " 2   area        float64\n",
      " 3   tax_value   float64\n",
      " 4   year_built  float64\n",
      " 5   tax_amount  float64\n",
      " 6   fips        float64\n",
      "dtypes: float64(7)\n",
      "memory usage: 130.6 MB\n"
     ]
    }
   ],
   "source": [
    "df.info()"
   ]
  },
  {
   "cell_type": "code",
   "execution_count": 11,
   "id": "594f7c93",
   "metadata": {},
   "outputs": [
    {
     "data": {
      "text/html": [
       "<div>\n",
       "<style scoped>\n",
       "    .dataframe tbody tr th:only-of-type {\n",
       "        vertical-align: middle;\n",
       "    }\n",
       "\n",
       "    .dataframe tbody tr th {\n",
       "        vertical-align: top;\n",
       "    }\n",
       "\n",
       "    .dataframe thead th {\n",
       "        text-align: right;\n",
       "    }\n",
       "</style>\n",
       "<table border=\"1\" class=\"dataframe\">\n",
       "  <thead>\n",
       "    <tr style=\"text-align: right;\">\n",
       "      <th></th>\n",
       "      <th>bedrooms</th>\n",
       "      <th>bathrooms</th>\n",
       "      <th>area</th>\n",
       "      <th>tax_value</th>\n",
       "      <th>year_built</th>\n",
       "      <th>tax_amount</th>\n",
       "      <th>fips</th>\n",
       "    </tr>\n",
       "  </thead>\n",
       "  <tbody>\n",
       "    <tr>\n",
       "      <th>count</th>\n",
       "      <td>2.140235e+06</td>\n",
       "      <td>2.140235e+06</td>\n",
       "      <td>2.140235e+06</td>\n",
       "      <td>2.140235e+06</td>\n",
       "      <td>2.140235e+06</td>\n",
       "      <td>2.140235e+06</td>\n",
       "      <td>2.140235e+06</td>\n",
       "    </tr>\n",
       "    <tr>\n",
       "      <th>mean</th>\n",
       "      <td>3.301419e+00</td>\n",
       "      <td>2.240352e+00</td>\n",
       "      <td>1.863194e+03</td>\n",
       "      <td>4.606416e+05</td>\n",
       "      <td>1.960968e+03</td>\n",
       "      <td>5.616711e+03</td>\n",
       "      <td>6.048310e+03</td>\n",
       "    </tr>\n",
       "    <tr>\n",
       "      <th>std</th>\n",
       "      <td>9.325998e-01</td>\n",
       "      <td>9.905489e-01</td>\n",
       "      <td>1.221754e+03</td>\n",
       "      <td>6.771576e+05</td>\n",
       "      <td>2.215056e+01</td>\n",
       "      <td>7.814563e+03</td>\n",
       "      <td>2.034491e+01</td>\n",
       "    </tr>\n",
       "    <tr>\n",
       "      <th>min</th>\n",
       "      <td>0.000000e+00</td>\n",
       "      <td>0.000000e+00</td>\n",
       "      <td>1.000000e+00</td>\n",
       "      <td>2.200000e+01</td>\n",
       "      <td>1.801000e+03</td>\n",
       "      <td>6.340000e+00</td>\n",
       "      <td>6.037000e+03</td>\n",
       "    </tr>\n",
       "    <tr>\n",
       "      <th>25%</th>\n",
       "      <td>3.000000e+00</td>\n",
       "      <td>2.000000e+00</td>\n",
       "      <td>1.258000e+03</td>\n",
       "      <td>1.891660e+05</td>\n",
       "      <td>1.949000e+03</td>\n",
       "      <td>2.540850e+03</td>\n",
       "      <td>6.037000e+03</td>\n",
       "    </tr>\n",
       "    <tr>\n",
       "      <th>50%</th>\n",
       "      <td>3.000000e+00</td>\n",
       "      <td>2.000000e+00</td>\n",
       "      <td>1.623000e+03</td>\n",
       "      <td>3.282960e+05</td>\n",
       "      <td>1.958000e+03</td>\n",
       "      <td>4.111470e+03</td>\n",
       "      <td>6.037000e+03</td>\n",
       "    </tr>\n",
       "    <tr>\n",
       "      <th>75%</th>\n",
       "      <td>4.000000e+00</td>\n",
       "      <td>3.000000e+00</td>\n",
       "      <td>2.208000e+03</td>\n",
       "      <td>5.346060e+05</td>\n",
       "      <td>1.976000e+03</td>\n",
       "      <td>6.411930e+03</td>\n",
       "      <td>6.059000e+03</td>\n",
       "    </tr>\n",
       "    <tr>\n",
       "      <th>max</th>\n",
       "      <td>2.500000e+01</td>\n",
       "      <td>3.200000e+01</td>\n",
       "      <td>9.525760e+05</td>\n",
       "      <td>9.018846e+07</td>\n",
       "      <td>2.016000e+03</td>\n",
       "      <td>1.078102e+06</td>\n",
       "      <td>6.111000e+03</td>\n",
       "    </tr>\n",
       "  </tbody>\n",
       "</table>\n",
       "</div>"
      ],
      "text/plain": [
       "           bedrooms     bathrooms          area     tax_value    year_built  \\\n",
       "count  2.140235e+06  2.140235e+06  2.140235e+06  2.140235e+06  2.140235e+06   \n",
       "mean   3.301419e+00  2.240352e+00  1.863194e+03  4.606416e+05  1.960968e+03   \n",
       "std    9.325998e-01  9.905489e-01  1.221754e+03  6.771576e+05  2.215056e+01   \n",
       "min    0.000000e+00  0.000000e+00  1.000000e+00  2.200000e+01  1.801000e+03   \n",
       "25%    3.000000e+00  2.000000e+00  1.258000e+03  1.891660e+05  1.949000e+03   \n",
       "50%    3.000000e+00  2.000000e+00  1.623000e+03  3.282960e+05  1.958000e+03   \n",
       "75%    4.000000e+00  3.000000e+00  2.208000e+03  5.346060e+05  1.976000e+03   \n",
       "max    2.500000e+01  3.200000e+01  9.525760e+05  9.018846e+07  2.016000e+03   \n",
       "\n",
       "         tax_amount          fips  \n",
       "count  2.140235e+06  2.140235e+06  \n",
       "mean   5.616711e+03  6.048310e+03  \n",
       "std    7.814563e+03  2.034491e+01  \n",
       "min    6.340000e+00  6.037000e+03  \n",
       "25%    2.540850e+03  6.037000e+03  \n",
       "50%    4.111470e+03  6.037000e+03  \n",
       "75%    6.411930e+03  6.059000e+03  \n",
       "max    1.078102e+06  6.111000e+03  "
      ]
     },
     "execution_count": 11,
     "metadata": {},
     "output_type": "execute_result"
    }
   ],
   "source": [
    "df.describe()"
   ]
  },
  {
   "cell_type": "markdown",
   "id": "afa5c4df",
   "metadata": {},
   "source": [
    "### 1. Apply the scalers we talked about in this lesson to your data and visualize the results for the unscaled and scaled distribution "
   ]
  },
  {
   "cell_type": "code",
   "execution_count": 12,
   "id": "bfb24ed8",
   "metadata": {},
   "outputs": [],
   "source": [
    "# 20% test, 80% train_validate\n",
    "# then of the 80% train_validate: 30% validate, 70% train. \n",
    "\n",
    "train, test = train_test_split(df, test_size=.2, random_state=123)\n",
    "train, validate = train_test_split(train, test_size=.3, random_state=123)"
   ]
  },
  {
   "cell_type": "code",
   "execution_count": 13,
   "id": "5affcc10",
   "metadata": {},
   "outputs": [
    {
     "data": {
      "text/html": [
       "<div>\n",
       "<style scoped>\n",
       "    .dataframe tbody tr th:only-of-type {\n",
       "        vertical-align: middle;\n",
       "    }\n",
       "\n",
       "    .dataframe tbody tr th {\n",
       "        vertical-align: top;\n",
       "    }\n",
       "\n",
       "    .dataframe thead th {\n",
       "        text-align: right;\n",
       "    }\n",
       "</style>\n",
       "<table border=\"1\" class=\"dataframe\">\n",
       "  <thead>\n",
       "    <tr style=\"text-align: right;\">\n",
       "      <th></th>\n",
       "      <th>bedrooms</th>\n",
       "      <th>bathrooms</th>\n",
       "      <th>area</th>\n",
       "      <th>tax_value</th>\n",
       "      <th>year_built</th>\n",
       "      <th>tax_amount</th>\n",
       "      <th>fips</th>\n",
       "    </tr>\n",
       "  </thead>\n",
       "  <tbody>\n",
       "    <tr>\n",
       "      <th>1567874</th>\n",
       "      <td>3.0</td>\n",
       "      <td>1.0</td>\n",
       "      <td>1248.0</td>\n",
       "      <td>191578.0</td>\n",
       "      <td>1950.0</td>\n",
       "      <td>2712.21</td>\n",
       "      <td>6037.0</td>\n",
       "    </tr>\n",
       "    <tr>\n",
       "      <th>1218139</th>\n",
       "      <td>2.0</td>\n",
       "      <td>2.0</td>\n",
       "      <td>1326.0</td>\n",
       "      <td>1345206.0</td>\n",
       "      <td>1950.0</td>\n",
       "      <td>16539.04</td>\n",
       "      <td>6037.0</td>\n",
       "    </tr>\n",
       "    <tr>\n",
       "      <th>339661</th>\n",
       "      <td>2.0</td>\n",
       "      <td>1.0</td>\n",
       "      <td>1053.0</td>\n",
       "      <td>356648.0</td>\n",
       "      <td>1953.0</td>\n",
       "      <td>4575.16</td>\n",
       "      <td>6037.0</td>\n",
       "    </tr>\n",
       "    <tr>\n",
       "      <th>1017134</th>\n",
       "      <td>3.0</td>\n",
       "      <td>2.0</td>\n",
       "      <td>1256.0</td>\n",
       "      <td>175069.0</td>\n",
       "      <td>1946.0</td>\n",
       "      <td>2635.51</td>\n",
       "      <td>6037.0</td>\n",
       "    </tr>\n",
       "    <tr>\n",
       "      <th>40250</th>\n",
       "      <td>3.0</td>\n",
       "      <td>2.0</td>\n",
       "      <td>1640.0</td>\n",
       "      <td>543000.0</td>\n",
       "      <td>1957.0</td>\n",
       "      <td>6344.96</td>\n",
       "      <td>6059.0</td>\n",
       "    </tr>\n",
       "  </tbody>\n",
       "</table>\n",
       "</div>"
      ],
      "text/plain": [
       "         bedrooms  bathrooms    area  tax_value  year_built  tax_amount  \\\n",
       "1567874       3.0        1.0  1248.0   191578.0      1950.0     2712.21   \n",
       "1218139       2.0        2.0  1326.0  1345206.0      1950.0    16539.04   \n",
       "339661        2.0        1.0  1053.0   356648.0      1953.0     4575.16   \n",
       "1017134       3.0        2.0  1256.0   175069.0      1946.0     2635.51   \n",
       "40250         3.0        2.0  1640.0   543000.0      1957.0     6344.96   \n",
       "\n",
       "           fips  \n",
       "1567874  6037.0  \n",
       "1218139  6037.0  \n",
       "339661   6037.0  \n",
       "1017134  6037.0  \n",
       "40250    6059.0  "
      ]
     },
     "execution_count": 13,
     "metadata": {},
     "output_type": "execute_result"
    }
   ],
   "source": [
    "train.head()"
   ]
  },
  {
   "cell_type": "code",
   "execution_count": 14,
   "id": "9d6f92a8",
   "metadata": {},
   "outputs": [
    {
     "name": "stdout",
     "output_type": "stream",
     "text": [
      "train -> (1198531, 7)\n",
      "validate -> (513657, 7)\n",
      "test -> (428047, 7)\n"
     ]
    }
   ],
   "source": [
    "# Validate my split\n",
    "\n",
    "print(f'train -> {train.shape}')\n",
    "print(f'validate -> {validate.shape}')\n",
    "print(f'test -> {test.shape}')"
   ]
  },
  {
   "cell_type": "code",
   "execution_count": 36,
   "id": "910cf8e5",
   "metadata": {},
   "outputs": [],
   "source": [
    "#Make a copy of my training set to scale\n",
    "train_scaled = train.copy()\n",
    "train_scaled2 = train.copy()\n",
    "train_scaled3 = train.copy()"
   ]
  },
  {
   "cell_type": "markdown",
   "id": "3dece096",
   "metadata": {},
   "source": [
    "### Looking at this dataset, we want to scale several columns: bedrooms, bathrooms, tax_value"
   ]
  },
  {
   "cell_type": "markdown",
   "id": "c59e55cc",
   "metadata": {},
   "source": [
    "### Min-Max Scaler"
   ]
  },
  {
   "cell_type": "code",
   "execution_count": 37,
   "id": "7547c1f6",
   "metadata": {},
   "outputs": [],
   "source": [
    "scale_columns = ['bedrooms', 'bathrooms', 'tax_value']"
   ]
  },
  {
   "cell_type": "code",
   "execution_count": 17,
   "id": "a23f5a04",
   "metadata": {},
   "outputs": [],
   "source": [
    "#Using min max scaler\n",
    "scaler = MinMaxScaler()"
   ]
  },
  {
   "cell_type": "code",
   "execution_count": 18,
   "id": "a2ee7524",
   "metadata": {},
   "outputs": [],
   "source": [
    "#Fit and transformed on training data\n",
    "train_scaled[scale_columns] = scaler.fit_transform(train[scale_columns])"
   ]
  },
  {
   "cell_type": "code",
   "execution_count": 19,
   "id": "a301fb4c",
   "metadata": {},
   "outputs": [
    {
     "data": {
      "text/html": [
       "<div>\n",
       "<style scoped>\n",
       "    .dataframe tbody tr th:only-of-type {\n",
       "        vertical-align: middle;\n",
       "    }\n",
       "\n",
       "    .dataframe tbody tr th {\n",
       "        vertical-align: top;\n",
       "    }\n",
       "\n",
       "    .dataframe thead th {\n",
       "        text-align: right;\n",
       "    }\n",
       "</style>\n",
       "<table border=\"1\" class=\"dataframe\">\n",
       "  <thead>\n",
       "    <tr style=\"text-align: right;\">\n",
       "      <th></th>\n",
       "      <th>bedrooms</th>\n",
       "      <th>bathrooms</th>\n",
       "      <th>area</th>\n",
       "      <th>tax_value</th>\n",
       "      <th>year_built</th>\n",
       "      <th>tax_amount</th>\n",
       "      <th>fips</th>\n",
       "    </tr>\n",
       "  </thead>\n",
       "  <tbody>\n",
       "    <tr>\n",
       "      <th>1567874</th>\n",
       "      <td>0.200000</td>\n",
       "      <td>0.03125</td>\n",
       "      <td>1248.0</td>\n",
       "      <td>0.002124</td>\n",
       "      <td>1950.0</td>\n",
       "      <td>2712.21</td>\n",
       "      <td>6037.0</td>\n",
       "    </tr>\n",
       "    <tr>\n",
       "      <th>1218139</th>\n",
       "      <td>0.133333</td>\n",
       "      <td>0.06250</td>\n",
       "      <td>1326.0</td>\n",
       "      <td>0.014915</td>\n",
       "      <td>1950.0</td>\n",
       "      <td>16539.04</td>\n",
       "      <td>6037.0</td>\n",
       "    </tr>\n",
       "    <tr>\n",
       "      <th>339661</th>\n",
       "      <td>0.133333</td>\n",
       "      <td>0.03125</td>\n",
       "      <td>1053.0</td>\n",
       "      <td>0.003954</td>\n",
       "      <td>1953.0</td>\n",
       "      <td>4575.16</td>\n",
       "      <td>6037.0</td>\n",
       "    </tr>\n",
       "    <tr>\n",
       "      <th>1017134</th>\n",
       "      <td>0.200000</td>\n",
       "      <td>0.06250</td>\n",
       "      <td>1256.0</td>\n",
       "      <td>0.001941</td>\n",
       "      <td>1946.0</td>\n",
       "      <td>2635.51</td>\n",
       "      <td>6037.0</td>\n",
       "    </tr>\n",
       "    <tr>\n",
       "      <th>40250</th>\n",
       "      <td>0.200000</td>\n",
       "      <td>0.06250</td>\n",
       "      <td>1640.0</td>\n",
       "      <td>0.006020</td>\n",
       "      <td>1957.0</td>\n",
       "      <td>6344.96</td>\n",
       "      <td>6059.0</td>\n",
       "    </tr>\n",
       "  </tbody>\n",
       "</table>\n",
       "</div>"
      ],
      "text/plain": [
       "         bedrooms  bathrooms    area  tax_value  year_built  tax_amount  \\\n",
       "1567874  0.200000    0.03125  1248.0   0.002124      1950.0     2712.21   \n",
       "1218139  0.133333    0.06250  1326.0   0.014915      1950.0    16539.04   \n",
       "339661   0.133333    0.03125  1053.0   0.003954      1953.0     4575.16   \n",
       "1017134  0.200000    0.06250  1256.0   0.001941      1946.0     2635.51   \n",
       "40250    0.200000    0.06250  1640.0   0.006020      1957.0     6344.96   \n",
       "\n",
       "           fips  \n",
       "1567874  6037.0  \n",
       "1218139  6037.0  \n",
       "339661   6037.0  \n",
       "1017134  6037.0  \n",
       "40250    6059.0  "
      ]
     },
     "execution_count": 19,
     "metadata": {},
     "output_type": "execute_result"
    }
   ],
   "source": [
    "train_scaled.head()"
   ]
  },
  {
   "cell_type": "code",
   "execution_count": 20,
   "id": "bfc85e87",
   "metadata": {},
   "outputs": [],
   "source": [
    "#Drop columns not scaled\n",
    "train_scaled_minmax = train_scaled.drop(['area', 'year_built', 'tax_amount', 'fips'], axis=1)"
   ]
  },
  {
   "cell_type": "code",
   "execution_count": 21,
   "id": "78d2d74c",
   "metadata": {
    "scrolled": true
   },
   "outputs": [
    {
     "data": {
      "text/plain": [
       "Text(0.5, 1.0, 'Scaled')"
      ]
     },
     "execution_count": 21,
     "metadata": {},
     "output_type": "execute_result"
    },
    {
     "data": {
      "image/png": "[encoded data removed]",
      "text/plain": [
       "<Figure size 936x432 with 2 Axes>"
      ]
     },
     "metadata": {
      "needs_background": "light"
     },
     "output_type": "display_data"
    }
   ],
   "source": [
    "#Visualize this for bedrooms\n",
    "\n",
    "plt.figure(figsize=(13, 6))\n",
    "plt.subplot(121)\n",
    "plt.hist(train.bedrooms, ec='black')\n",
    "plt.title('Original')\n",
    "plt.subplot(122)\n",
    "plt.hist(train_scaled_minmax.bedrooms, ec='black')\n",
    "plt.title('Scaled')"
   ]
  },
  {
   "cell_type": "code",
   "execution_count": 22,
   "id": "469225d1",
   "metadata": {},
   "outputs": [
    {
     "data": {
      "text/plain": [
       "Text(0.5, 1.0, 'Scaled')"
      ]
     },
     "execution_count": 22,
     "metadata": {},
     "output_type": "execute_result"
    },
    {
     "data": {
      "image/png": "[encoded data removed]",
      "text/plain": [
       "<Figure size 936x432 with 2 Axes>"
      ]
     },
     "metadata": {
      "needs_background": "light"
     },
     "output_type": "display_data"
    }
   ],
   "source": [
    "#Visualize this for bathrooms\n",
    "plt.figure(figsize=(13, 6))\n",
    "plt.subplot(121)\n",
    "plt.hist(train.bathrooms, ec='black')\n",
    "plt.title('Original')\n",
    "plt.subplot(122)\n",
    "plt.hist(train_scaled.bathrooms, ec='black')\n",
    "plt.title('Scaled')"
   ]
  },
  {
   "cell_type": "code",
   "execution_count": 23,
   "id": "7c870256",
   "metadata": {},
   "outputs": [
    {
     "data": {
      "text/plain": [
       "Text(0.5, 1.0, 'Scaled')"
      ]
     },
     "execution_count": 23,
     "metadata": {},
     "output_type": "execute_result"
    },
    {
     "data": {
      "image/png": "[encoded data removed]",
      "text/plain": [
       "<Figure size 936x432 with 2 Axes>"
      ]
     },
     "metadata": {
      "needs_background": "light"
     },
     "output_type": "display_data"
    }
   ],
   "source": [
    "#Visualize this for tax_value\n",
    "plt.figure(figsize=(13, 6))\n",
    "plt.subplot(121)\n",
    "plt.hist(train.tax_value, ec='black')\n",
    "plt.title('Original')\n",
    "plt.subplot(122)\n",
    "plt.hist(train_scaled.tax_value, ec='black')\n",
    "plt.title('Scaled')"
   ]
  },
  {
   "cell_type": "code",
   "execution_count": 24,
   "id": "97a4ab74",
   "metadata": {},
   "outputs": [
    {
     "data": {
      "image/png": "[encoded data removed]",
      "text/plain": [
       "<Figure size 432x288 with 1 Axes>"
      ]
     },
     "metadata": {
      "needs_background": "light"
     },
     "output_type": "display_data"
    }
   ],
   "source": [
    "plt.title(\"Non-scaled difference Bedrooms and tax value\")\n",
    "sns.barplot(x=\"bedrooms\", y=\"tax_value\", data=train)\n",
    "plt.show()"
   ]
  },
  {
   "cell_type": "code",
   "execution_count": 25,
   "id": "cd9c9085",
   "metadata": {},
   "outputs": [
    {
     "data": {
      "text/plain": [
       "<AxesSubplot:title={'center':'Scaled comparison bedrooms and tax value'}, xlabel='bedrooms', ylabel='tax_value'>"
      ]
     },
     "execution_count": 25,
     "metadata": {},
     "output_type": "execute_result"
    },
    {
     "data": {
      "image/png": "[encoded data removed]",
      "text/plain": [
       "<Figure size 432x288 with 1 Axes>"
      ]
     },
     "metadata": {
      "needs_background": "light"
     },
     "output_type": "display_data"
    }
   ],
   "source": [
    "plt.title(\"Scaled comparison bedrooms and tax value\")\n",
    "sns.barplot(x=\"bedrooms\", y=\"tax_value\", data=train_scaled_minmax)"
   ]
  },
  {
   "cell_type": "code",
   "execution_count": 26,
   "id": "287774dc",
   "metadata": {},
   "outputs": [
    {
     "data": {
      "image/png": "[encoded data removed]",
      "text/plain": [
       "<Figure size 432x288 with 1 Axes>"
      ]
     },
     "metadata": {
      "needs_background": "light"
     },
     "output_type": "display_data"
    }
   ],
   "source": [
    "plt.title(\"Scaled difference Bedrooms and tax value\")\n",
    "sns.scatterplot(x=\"bedrooms\", y=\"tax_value\", data= train_scaled)\n",
    "plt.show()"
   ]
  },
  {
   "cell_type": "markdown",
   "id": "69bc57c0",
   "metadata": {},
   "source": [
    "### Standard Scaler"
   ]
  },
  {
   "cell_type": "code",
   "execution_count": 27,
   "id": "1d0a6f8e",
   "metadata": {},
   "outputs": [],
   "source": [
    "#Standard Scaler\n",
    "scaler = StandardScaler()\n",
    "# Fit and transform on training data\n",
    "train_scaled[scale_columns] = scaler.fit_transform(train[scale_columns])"
   ]
  },
  {
   "cell_type": "code",
   "execution_count": 28,
   "id": "0d5bd4ac",
   "metadata": {},
   "outputs": [
    {
     "data": {
      "text/html": [
       "<div>\n",
       "<style scoped>\n",
       "    .dataframe tbody tr th:only-of-type {\n",
       "        vertical-align: middle;\n",
       "    }\n",
       "\n",
       "    .dataframe tbody tr th {\n",
       "        vertical-align: top;\n",
       "    }\n",
       "\n",
       "    .dataframe thead th {\n",
       "        text-align: right;\n",
       "    }\n",
       "</style>\n",
       "<table border=\"1\" class=\"dataframe\">\n",
       "  <thead>\n",
       "    <tr style=\"text-align: right;\">\n",
       "      <th></th>\n",
       "      <th>bedrooms</th>\n",
       "      <th>bathrooms</th>\n",
       "      <th>area</th>\n",
       "      <th>tax_value</th>\n",
       "      <th>year_built</th>\n",
       "      <th>tax_amount</th>\n",
       "      <th>fips</th>\n",
       "    </tr>\n",
       "  </thead>\n",
       "  <tbody>\n",
       "    <tr>\n",
       "      <th>1567874</th>\n",
       "      <td>-0.323211</td>\n",
       "      <td>-1.250727</td>\n",
       "      <td>1248.0</td>\n",
       "      <td>-0.391617</td>\n",
       "      <td>1950.0</td>\n",
       "      <td>2712.21</td>\n",
       "      <td>6037.0</td>\n",
       "    </tr>\n",
       "    <tr>\n",
       "      <th>1218139</th>\n",
       "      <td>-1.395264</td>\n",
       "      <td>-0.242709</td>\n",
       "      <td>1326.0</td>\n",
       "      <td>1.282932</td>\n",
       "      <td>1950.0</td>\n",
       "      <td>16539.04</td>\n",
       "      <td>6037.0</td>\n",
       "    </tr>\n",
       "    <tr>\n",
       "      <th>339661</th>\n",
       "      <td>-1.395264</td>\n",
       "      <td>-1.250727</td>\n",
       "      <td>1053.0</td>\n",
       "      <td>-0.152009</td>\n",
       "      <td>1953.0</td>\n",
       "      <td>4575.16</td>\n",
       "      <td>6037.0</td>\n",
       "    </tr>\n",
       "    <tr>\n",
       "      <th>1017134</th>\n",
       "      <td>-0.323211</td>\n",
       "      <td>-0.242709</td>\n",
       "      <td>1256.0</td>\n",
       "      <td>-0.415580</td>\n",
       "      <td>1946.0</td>\n",
       "      <td>2635.51</td>\n",
       "      <td>6037.0</td>\n",
       "    </tr>\n",
       "    <tr>\n",
       "      <th>40250</th>\n",
       "      <td>-0.323211</td>\n",
       "      <td>-0.242709</td>\n",
       "      <td>1640.0</td>\n",
       "      <td>0.118490</td>\n",
       "      <td>1957.0</td>\n",
       "      <td>6344.96</td>\n",
       "      <td>6059.0</td>\n",
       "    </tr>\n",
       "  </tbody>\n",
       "</table>\n",
       "</div>"
      ],
      "text/plain": [
       "         bedrooms  bathrooms    area  tax_value  year_built  tax_amount  \\\n",
       "1567874 -0.323211  -1.250727  1248.0  -0.391617      1950.0     2712.21   \n",
       "1218139 -1.395264  -0.242709  1326.0   1.282932      1950.0    16539.04   \n",
       "339661  -1.395264  -1.250727  1053.0  -0.152009      1953.0     4575.16   \n",
       "1017134 -0.323211  -0.242709  1256.0  -0.415580      1946.0     2635.51   \n",
       "40250   -0.323211  -0.242709  1640.0   0.118490      1957.0     6344.96   \n",
       "\n",
       "           fips  \n",
       "1567874  6037.0  \n",
       "1218139  6037.0  \n",
       "339661   6037.0  \n",
       "1017134  6037.0  \n",
       "40250    6059.0  "
      ]
     },
     "execution_count": 28,
     "metadata": {},
     "output_type": "execute_result"
    }
   ],
   "source": [
    "train_scaled.head()"
   ]
  },
  {
   "cell_type": "code",
   "execution_count": 29,
   "id": "08c67965",
   "metadata": {},
   "outputs": [],
   "source": [
    "#Drop columns not scaled\n",
    "train_scaled_standard = train_scaled.drop(['area', 'year_built', 'tax_amount', 'fips'], axis=1)"
   ]
  },
  {
   "cell_type": "code",
   "execution_count": 30,
   "id": "767e7de7",
   "metadata": {},
   "outputs": [
    {
     "data": {
      "text/html": [
       "<div>\n",
       "<style scoped>\n",
       "    .dataframe tbody tr th:only-of-type {\n",
       "        vertical-align: middle;\n",
       "    }\n",
       "\n",
       "    .dataframe tbody tr th {\n",
       "        vertical-align: top;\n",
       "    }\n",
       "\n",
       "    .dataframe thead th {\n",
       "        text-align: right;\n",
       "    }\n",
       "</style>\n",
       "<table border=\"1\" class=\"dataframe\">\n",
       "  <thead>\n",
       "    <tr style=\"text-align: right;\">\n",
       "      <th></th>\n",
       "      <th>bedrooms</th>\n",
       "      <th>bathrooms</th>\n",
       "      <th>tax_value</th>\n",
       "    </tr>\n",
       "  </thead>\n",
       "  <tbody>\n",
       "    <tr>\n",
       "      <th>1567874</th>\n",
       "      <td>-0.323211</td>\n",
       "      <td>-1.250727</td>\n",
       "      <td>-0.391617</td>\n",
       "    </tr>\n",
       "    <tr>\n",
       "      <th>1218139</th>\n",
       "      <td>-1.395264</td>\n",
       "      <td>-0.242709</td>\n",
       "      <td>1.282932</td>\n",
       "    </tr>\n",
       "    <tr>\n",
       "      <th>339661</th>\n",
       "      <td>-1.395264</td>\n",
       "      <td>-1.250727</td>\n",
       "      <td>-0.152009</td>\n",
       "    </tr>\n",
       "    <tr>\n",
       "      <th>1017134</th>\n",
       "      <td>-0.323211</td>\n",
       "      <td>-0.242709</td>\n",
       "      <td>-0.415580</td>\n",
       "    </tr>\n",
       "    <tr>\n",
       "      <th>40250</th>\n",
       "      <td>-0.323211</td>\n",
       "      <td>-0.242709</td>\n",
       "      <td>0.118490</td>\n",
       "    </tr>\n",
       "  </tbody>\n",
       "</table>\n",
       "</div>"
      ],
      "text/plain": [
       "         bedrooms  bathrooms  tax_value\n",
       "1567874 -0.323211  -1.250727  -0.391617\n",
       "1218139 -1.395264  -0.242709   1.282932\n",
       "339661  -1.395264  -1.250727  -0.152009\n",
       "1017134 -0.323211  -0.242709  -0.415580\n",
       "40250   -0.323211  -0.242709   0.118490"
      ]
     },
     "execution_count": 30,
     "metadata": {},
     "output_type": "execute_result"
    }
   ],
   "source": [
    "train_scaled_standard.head()"
   ]
  },
  {
   "cell_type": "code",
   "execution_count": 31,
   "id": "23a52382",
   "metadata": {},
   "outputs": [
    {
     "data": {
      "text/plain": [
       "Text(0.5, 1.0, 'Scaled')"
      ]
     },
     "execution_count": 31,
     "metadata": {},
     "output_type": "execute_result"
    },
    {
     "data": {
      "image/png": "[encoded data removed]",
      "text/plain": [
       "<Figure size 936x432 with 2 Axes>"
      ]
     },
     "metadata": {
      "needs_background": "light"
     },
     "output_type": "display_data"
    }
   ],
   "source": [
    "#Visualize\n",
    "plt.figure(figsize=(13, 6))\n",
    "plt.subplot(121)\n",
    "plt.hist(train, ec='black')\n",
    "plt.title('Original')\n",
    "plt.subplot(122)\n",
    "plt.hist(train_scaled_standard, ec='black')\n",
    "plt.title('Scaled')"
   ]
  },
  {
   "cell_type": "markdown",
   "id": "68801bfc",
   "metadata": {},
   "source": [
    "### Robust Scaler"
   ]
  },
  {
   "cell_type": "code",
   "execution_count": 32,
   "id": "12b8e152",
   "metadata": {},
   "outputs": [],
   "source": [
    "#Robust Scaler\n",
    "scaler = RobustScaler()\n",
    "# Fit and transform on training data\n",
    "train_scaled[scale_columns] = scaler.fit_transform(train[scale_columns])"
   ]
  },
  {
   "cell_type": "code",
   "execution_count": 33,
   "id": "c6fd7ffc",
   "metadata": {},
   "outputs": [
    {
     "data": {
      "text/html": [
       "<div>\n",
       "<style scoped>\n",
       "    .dataframe tbody tr th:only-of-type {\n",
       "        vertical-align: middle;\n",
       "    }\n",
       "\n",
       "    .dataframe tbody tr th {\n",
       "        vertical-align: top;\n",
       "    }\n",
       "\n",
       "    .dataframe thead th {\n",
       "        text-align: right;\n",
       "    }\n",
       "</style>\n",
       "<table border=\"1\" class=\"dataframe\">\n",
       "  <thead>\n",
       "    <tr style=\"text-align: right;\">\n",
       "      <th></th>\n",
       "      <th>bedrooms</th>\n",
       "      <th>bathrooms</th>\n",
       "      <th>area</th>\n",
       "      <th>tax_value</th>\n",
       "      <th>year_built</th>\n",
       "      <th>tax_amount</th>\n",
       "      <th>fips</th>\n",
       "    </tr>\n",
       "  </thead>\n",
       "  <tbody>\n",
       "    <tr>\n",
       "      <th>1567874</th>\n",
       "      <td>0.0</td>\n",
       "      <td>-1.0</td>\n",
       "      <td>1248.0</td>\n",
       "      <td>-0.396434</td>\n",
       "      <td>1950.0</td>\n",
       "      <td>2712.21</td>\n",
       "      <td>6037.0</td>\n",
       "    </tr>\n",
       "    <tr>\n",
       "      <th>1218139</th>\n",
       "      <td>-1.0</td>\n",
       "      <td>0.0</td>\n",
       "      <td>1326.0</td>\n",
       "      <td>2.940577</td>\n",
       "      <td>1950.0</td>\n",
       "      <td>16539.04</td>\n",
       "      <td>6037.0</td>\n",
       "    </tr>\n",
       "    <tr>\n",
       "      <th>339661</th>\n",
       "      <td>-1.0</td>\n",
       "      <td>-1.0</td>\n",
       "      <td>1053.0</td>\n",
       "      <td>0.081051</td>\n",
       "      <td>1953.0</td>\n",
       "      <td>4575.16</td>\n",
       "      <td>6037.0</td>\n",
       "    </tr>\n",
       "    <tr>\n",
       "      <th>1017134</th>\n",
       "      <td>0.0</td>\n",
       "      <td>0.0</td>\n",
       "      <td>1256.0</td>\n",
       "      <td>-0.444188</td>\n",
       "      <td>1946.0</td>\n",
       "      <td>2635.51</td>\n",
       "      <td>6037.0</td>\n",
       "    </tr>\n",
       "    <tr>\n",
       "      <th>40250</th>\n",
       "      <td>0.0</td>\n",
       "      <td>0.0</td>\n",
       "      <td>1640.0</td>\n",
       "      <td>0.620097</td>\n",
       "      <td>1957.0</td>\n",
       "      <td>6344.96</td>\n",
       "      <td>6059.0</td>\n",
       "    </tr>\n",
       "  </tbody>\n",
       "</table>\n",
       "</div>"
      ],
      "text/plain": [
       "         bedrooms  bathrooms    area  tax_value  year_built  tax_amount  \\\n",
       "1567874       0.0       -1.0  1248.0  -0.396434      1950.0     2712.21   \n",
       "1218139      -1.0        0.0  1326.0   2.940577      1950.0    16539.04   \n",
       "339661       -1.0       -1.0  1053.0   0.081051      1953.0     4575.16   \n",
       "1017134       0.0        0.0  1256.0  -0.444188      1946.0     2635.51   \n",
       "40250         0.0        0.0  1640.0   0.620097      1957.0     6344.96   \n",
       "\n",
       "           fips  \n",
       "1567874  6037.0  \n",
       "1218139  6037.0  \n",
       "339661   6037.0  \n",
       "1017134  6037.0  \n",
       "40250    6059.0  "
      ]
     },
     "execution_count": 33,
     "metadata": {},
     "output_type": "execute_result"
    }
   ],
   "source": [
    "train_scaled.head()"
   ]
  },
  {
   "cell_type": "code",
   "execution_count": 34,
   "id": "97eca877",
   "metadata": {},
   "outputs": [],
   "source": [
    "#Drop columns not scaled\n",
    "train_scaled_robust = train_scaled.drop(['area', 'year_built', 'tax_amount', 'fips'], axis=1)"
   ]
  },
  {
   "cell_type": "code",
   "execution_count": 35,
   "id": "1ce5cd53",
   "metadata": {},
   "outputs": [
    {
     "data": {
      "text/plain": [
       "Text(0.5, 1.0, 'Scaled')"
      ]
     },
     "execution_count": 35,
     "metadata": {},
     "output_type": "execute_result"
    },
    {
     "data": {
      "image/png": "[encoded data removed]",
      "text/plain": [
       "<Figure size 936x432 with 2 Axes>"
      ]
     },
     "metadata": {
      "needs_background": "light"
     },
     "output_type": "display_data"
    }
   ],
   "source": [
    "#Visualize this\n",
    "plt.figure(figsize=(13, 6))\n",
    "plt.subplot(121)\n",
    "plt.hist(train, ec='black')\n",
    "plt.title('Original')\n",
    "plt.subplot(122)\n",
    "plt.hist(train_scaled_robust, ec='black')\n",
    "plt.title('Scaled')"
   ]
  },
  {
   "cell_type": "markdown",
   "id": "f3655fcd",
   "metadata": {},
   "source": [
    "### 2. Apply the .inverse_transform method to your scaled data. Is the resulting dataset the exact same as the original data?"
   ]
  },
  {
   "cell_type": "markdown",
   "id": "946fc2ba",
   "metadata": {},
   "source": [
    "### 3. Read the documentation for sklearn's QuantileTransformer. Use normal for the output_distribution and apply this scaler to your data. Visualize the result of your data scaling."
   ]
  },
  {
   "cell_type": "code",
   "execution_count": null,
   "id": "f9a54cbb",
   "metadata": {},
   "outputs": [],
   "source": []
  }
 ],
 "metadata": {
  "kernelspec": {
   "display_name": "Python 3 (ipykernel)",
   "language": "python",
   "name": "python3"
  },
  "language_info": {
   "codemirror_mode": {
    "name": "ipython",
    "version": 3
   },
   "file_extension": ".py",
   "mimetype": "text/x-python",
   "name": "python",
   "nbconvert_exporter": "python",
   "pygments_lexer": "ipython3",
   "version": "3.9.12"
  }
 },
 "nbformat": 4,
 "nbformat_minor": 5
}
