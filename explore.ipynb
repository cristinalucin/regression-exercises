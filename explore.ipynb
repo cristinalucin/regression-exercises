{
 "cells": [
  {
   "cell_type": "code",
   "execution_count": 1,
   "id": "f34743d8",
   "metadata": {},
   "outputs": [],
   "source": [
    "import warnings\n",
    "warnings.filterwarnings(\"ignore\")\n",
    "\n",
    "import pandas as pd\n",
    "import numpy as np\n",
    "\n",
    "import matplotlib.pyplot as plt\n",
    "import seaborn as sns\n",
    "\n",
    "from sklearn.model_selection import train_test_split\n",
    "from scipy.stats import pearsonr, spearmanr\n",
    "\n",
    "import env as e\n",
    "import wrangle as w\n",
    "import model as m"
   ]
  },
  {
   "cell_type": "code",
   "execution_count": 2,
   "id": "83acd444",
   "metadata": {},
   "outputs": [],
   "source": [
    "df = w.get_zillow_data()"
   ]
  },
  {
   "cell_type": "code",
   "execution_count": 3,
   "id": "b1d60212",
   "metadata": {},
   "outputs": [
    {
     "data": {
      "text/html": [
       "<div>\n",
       "<style scoped>\n",
       "    .dataframe tbody tr th:only-of-type {\n",
       "        vertical-align: middle;\n",
       "    }\n",
       "\n",
       "    .dataframe tbody tr th {\n",
       "        vertical-align: top;\n",
       "    }\n",
       "\n",
       "    .dataframe thead th {\n",
       "        text-align: right;\n",
       "    }\n",
       "</style>\n",
       "<table border=\"1\" class=\"dataframe\">\n",
       "  <thead>\n",
       "    <tr style=\"text-align: right;\">\n",
       "      <th></th>\n",
       "      <th>bedroomcnt</th>\n",
       "      <th>bathroomcnt</th>\n",
       "      <th>calculatedfinishedsquarefeet</th>\n",
       "      <th>taxvaluedollarcnt</th>\n",
       "      <th>yearbuilt</th>\n",
       "      <th>taxamount</th>\n",
       "      <th>fips</th>\n",
       "    </tr>\n",
       "  </thead>\n",
       "  <tbody>\n",
       "    <tr>\n",
       "      <th>0</th>\n",
       "      <td>0.0</td>\n",
       "      <td>0.0</td>\n",
       "      <td>NaN</td>\n",
       "      <td>27516.0</td>\n",
       "      <td>NaN</td>\n",
       "      <td>NaN</td>\n",
       "      <td>6037.0</td>\n",
       "    </tr>\n",
       "    <tr>\n",
       "      <th>1</th>\n",
       "      <td>0.0</td>\n",
       "      <td>0.0</td>\n",
       "      <td>NaN</td>\n",
       "      <td>10.0</td>\n",
       "      <td>NaN</td>\n",
       "      <td>NaN</td>\n",
       "      <td>6037.0</td>\n",
       "    </tr>\n",
       "    <tr>\n",
       "      <th>2</th>\n",
       "      <td>0.0</td>\n",
       "      <td>0.0</td>\n",
       "      <td>NaN</td>\n",
       "      <td>10.0</td>\n",
       "      <td>NaN</td>\n",
       "      <td>NaN</td>\n",
       "      <td>6037.0</td>\n",
       "    </tr>\n",
       "    <tr>\n",
       "      <th>3</th>\n",
       "      <td>0.0</td>\n",
       "      <td>0.0</td>\n",
       "      <td>NaN</td>\n",
       "      <td>2108.0</td>\n",
       "      <td>NaN</td>\n",
       "      <td>174.21</td>\n",
       "      <td>6037.0</td>\n",
       "    </tr>\n",
       "    <tr>\n",
       "      <th>4</th>\n",
       "      <td>4.0</td>\n",
       "      <td>2.0</td>\n",
       "      <td>3633.0</td>\n",
       "      <td>296425.0</td>\n",
       "      <td>2005.0</td>\n",
       "      <td>6941.39</td>\n",
       "      <td>6037.0</td>\n",
       "    </tr>\n",
       "  </tbody>\n",
       "</table>\n",
       "</div>"
      ],
      "text/plain": [
       "   bedroomcnt  bathroomcnt  calculatedfinishedsquarefeet  taxvaluedollarcnt  \\\n",
       "0         0.0          0.0                           NaN            27516.0   \n",
       "1         0.0          0.0                           NaN               10.0   \n",
       "2         0.0          0.0                           NaN               10.0   \n",
       "3         0.0          0.0                           NaN             2108.0   \n",
       "4         4.0          2.0                        3633.0           296425.0   \n",
       "\n",
       "   yearbuilt  taxamount    fips  \n",
       "0        NaN        NaN  6037.0  \n",
       "1        NaN        NaN  6037.0  \n",
       "2        NaN        NaN  6037.0  \n",
       "3        NaN     174.21  6037.0  \n",
       "4     2005.0    6941.39  6037.0  "
      ]
     },
     "execution_count": 3,
     "metadata": {},
     "output_type": "execute_result"
    }
   ],
   "source": [
    "df.head()"
   ]
  },
  {
   "cell_type": "code",
   "execution_count": 4,
   "id": "1221a1a5",
   "metadata": {},
   "outputs": [
    {
     "name": "stdout",
     "output_type": "stream",
     "text": [
      "<class 'pandas.core.frame.DataFrame'>\n",
      "RangeIndex: 2152864 entries, 0 to 2152863\n",
      "Data columns (total 7 columns):\n",
      " #   Column                        Dtype  \n",
      "---  ------                        -----  \n",
      " 0   bedroomcnt                    float64\n",
      " 1   bathroomcnt                   float64\n",
      " 2   calculatedfinishedsquarefeet  float64\n",
      " 3   taxvaluedollarcnt             float64\n",
      " 4   yearbuilt                     float64\n",
      " 5   taxamount                     float64\n",
      " 6   fips                          float64\n",
      "dtypes: float64(7)\n",
      "memory usage: 115.0 MB\n"
     ]
    }
   ],
   "source": [
    "df.info()"
   ]
  },
  {
   "cell_type": "code",
   "execution_count": 5,
   "id": "7289fe4f",
   "metadata": {},
   "outputs": [],
   "source": [
    "df = w.clean_zillow(df)"
   ]
  },
  {
   "cell_type": "code",
   "execution_count": 6,
   "id": "53dd548e",
   "metadata": {},
   "outputs": [
    {
     "data": {
      "text/html": [
       "<div>\n",
       "<style scoped>\n",
       "    .dataframe tbody tr th:only-of-type {\n",
       "        vertical-align: middle;\n",
       "    }\n",
       "\n",
       "    .dataframe tbody tr th {\n",
       "        vertical-align: top;\n",
       "    }\n",
       "\n",
       "    .dataframe thead th {\n",
       "        text-align: right;\n",
       "    }\n",
       "</style>\n",
       "<table border=\"1\" class=\"dataframe\">\n",
       "  <thead>\n",
       "    <tr style=\"text-align: right;\">\n",
       "      <th></th>\n",
       "      <th>bedrooms</th>\n",
       "      <th>bathrooms</th>\n",
       "      <th>area</th>\n",
       "      <th>tax_value</th>\n",
       "      <th>year_built</th>\n",
       "      <th>tax_amount</th>\n",
       "      <th>fips</th>\n",
       "      <th>fips_loc</th>\n",
       "    </tr>\n",
       "  </thead>\n",
       "  <tbody>\n",
       "    <tr>\n",
       "      <th>4</th>\n",
       "      <td>4.0</td>\n",
       "      <td>2.0</td>\n",
       "      <td>3633.0</td>\n",
       "      <td>296425.0</td>\n",
       "      <td>2005.0</td>\n",
       "      <td>6941.39</td>\n",
       "      <td>6037</td>\n",
       "      <td>Los Angeles, CA</td>\n",
       "    </tr>\n",
       "    <tr>\n",
       "      <th>6</th>\n",
       "      <td>3.0</td>\n",
       "      <td>4.0</td>\n",
       "      <td>1620.0</td>\n",
       "      <td>847770.0</td>\n",
       "      <td>2011.0</td>\n",
       "      <td>10244.94</td>\n",
       "      <td>6037</td>\n",
       "      <td>Los Angeles, CA</td>\n",
       "    </tr>\n",
       "    <tr>\n",
       "      <th>7</th>\n",
       "      <td>3.0</td>\n",
       "      <td>2.0</td>\n",
       "      <td>2077.0</td>\n",
       "      <td>646760.0</td>\n",
       "      <td>1926.0</td>\n",
       "      <td>7924.68</td>\n",
       "      <td>6037</td>\n",
       "      <td>Los Angeles, CA</td>\n",
       "    </tr>\n",
       "    <tr>\n",
       "      <th>11</th>\n",
       "      <td>0.0</td>\n",
       "      <td>0.0</td>\n",
       "      <td>1200.0</td>\n",
       "      <td>5328.0</td>\n",
       "      <td>1972.0</td>\n",
       "      <td>91.60</td>\n",
       "      <td>6037</td>\n",
       "      <td>Los Angeles, CA</td>\n",
       "    </tr>\n",
       "    <tr>\n",
       "      <th>14</th>\n",
       "      <td>0.0</td>\n",
       "      <td>0.0</td>\n",
       "      <td>171.0</td>\n",
       "      <td>6920.0</td>\n",
       "      <td>1973.0</td>\n",
       "      <td>255.17</td>\n",
       "      <td>6037</td>\n",
       "      <td>Los Angeles, CA</td>\n",
       "    </tr>\n",
       "  </tbody>\n",
       "</table>\n",
       "</div>"
      ],
      "text/plain": [
       "    bedrooms  bathrooms    area  tax_value  year_built  tax_amount  fips  \\\n",
       "4        4.0        2.0  3633.0   296425.0      2005.0     6941.39  6037   \n",
       "6        3.0        4.0  1620.0   847770.0      2011.0    10244.94  6037   \n",
       "7        3.0        2.0  2077.0   646760.0      1926.0     7924.68  6037   \n",
       "11       0.0        0.0  1200.0     5328.0      1972.0       91.60  6037   \n",
       "14       0.0        0.0   171.0     6920.0      1973.0      255.17  6037   \n",
       "\n",
       "           fips_loc  \n",
       "4   Los Angeles, CA  \n",
       "6   Los Angeles, CA  \n",
       "7   Los Angeles, CA  \n",
       "11  Los Angeles, CA  \n",
       "14  Los Angeles, CA  "
      ]
     },
     "execution_count": 6,
     "metadata": {},
     "output_type": "execute_result"
    }
   ],
   "source": [
    "df.head()"
   ]
  },
  {
   "cell_type": "code",
   "execution_count": 7,
   "id": "5c6d8bf3",
   "metadata": {},
   "outputs": [],
   "source": [
    "#Remove outliers\n",
    "df = w.remove_outliers(df,['bedrooms','bathrooms','area','tax_value','tax_amount'])"
   ]
  },
  {
   "cell_type": "code",
   "execution_count": 8,
   "id": "8219df4b",
   "metadata": {},
   "outputs": [
    {
     "data": {
      "text/html": [
       "<div>\n",
       "<style scoped>\n",
       "    .dataframe tbody tr th:only-of-type {\n",
       "        vertical-align: middle;\n",
       "    }\n",
       "\n",
       "    .dataframe tbody tr th {\n",
       "        vertical-align: top;\n",
       "    }\n",
       "\n",
       "    .dataframe thead th {\n",
       "        text-align: right;\n",
       "    }\n",
       "</style>\n",
       "<table border=\"1\" class=\"dataframe\">\n",
       "  <thead>\n",
       "    <tr style=\"text-align: right;\">\n",
       "      <th></th>\n",
       "      <th>bedrooms</th>\n",
       "      <th>bathrooms</th>\n",
       "      <th>area</th>\n",
       "      <th>tax_value</th>\n",
       "      <th>year_built</th>\n",
       "      <th>tax_amount</th>\n",
       "      <th>fips</th>\n",
       "      <th>fips_loc</th>\n",
       "    </tr>\n",
       "  </thead>\n",
       "  <tbody>\n",
       "    <tr>\n",
       "      <th>6</th>\n",
       "      <td>3.0</td>\n",
       "      <td>4.0</td>\n",
       "      <td>1620.0</td>\n",
       "      <td>847770.0</td>\n",
       "      <td>2011.0</td>\n",
       "      <td>10244.94</td>\n",
       "      <td>6037</td>\n",
       "      <td>Los Angeles, CA</td>\n",
       "    </tr>\n",
       "    <tr>\n",
       "      <th>7</th>\n",
       "      <td>3.0</td>\n",
       "      <td>2.0</td>\n",
       "      <td>2077.0</td>\n",
       "      <td>646760.0</td>\n",
       "      <td>1926.0</td>\n",
       "      <td>7924.68</td>\n",
       "      <td>6037</td>\n",
       "      <td>Los Angeles, CA</td>\n",
       "    </tr>\n",
       "    <tr>\n",
       "      <th>18</th>\n",
       "      <td>3.0</td>\n",
       "      <td>1.0</td>\n",
       "      <td>1244.0</td>\n",
       "      <td>169471.0</td>\n",
       "      <td>1950.0</td>\n",
       "      <td>2532.88</td>\n",
       "      <td>6037</td>\n",
       "      <td>Los Angeles, CA</td>\n",
       "    </tr>\n",
       "    <tr>\n",
       "      <th>19</th>\n",
       "      <td>3.0</td>\n",
       "      <td>2.0</td>\n",
       "      <td>1300.0</td>\n",
       "      <td>233266.0</td>\n",
       "      <td>1950.0</td>\n",
       "      <td>3110.99</td>\n",
       "      <td>6037</td>\n",
       "      <td>Los Angeles, CA</td>\n",
       "    </tr>\n",
       "    <tr>\n",
       "      <th>20</th>\n",
       "      <td>3.0</td>\n",
       "      <td>2.0</td>\n",
       "      <td>1222.0</td>\n",
       "      <td>290492.0</td>\n",
       "      <td>1951.0</td>\n",
       "      <td>3870.25</td>\n",
       "      <td>6037</td>\n",
       "      <td>Los Angeles, CA</td>\n",
       "    </tr>\n",
       "  </tbody>\n",
       "</table>\n",
       "</div>"
      ],
      "text/plain": [
       "    bedrooms  bathrooms    area  tax_value  year_built  tax_amount  fips  \\\n",
       "6        3.0        4.0  1620.0   847770.0      2011.0    10244.94  6037   \n",
       "7        3.0        2.0  2077.0   646760.0      1926.0     7924.68  6037   \n",
       "18       3.0        1.0  1244.0   169471.0      1950.0     2532.88  6037   \n",
       "19       3.0        2.0  1300.0   233266.0      1950.0     3110.99  6037   \n",
       "20       3.0        2.0  1222.0   290492.0      1951.0     3870.25  6037   \n",
       "\n",
       "           fips_loc  \n",
       "6   Los Angeles, CA  \n",
       "7   Los Angeles, CA  \n",
       "18  Los Angeles, CA  \n",
       "19  Los Angeles, CA  \n",
       "20  Los Angeles, CA  "
      ]
     },
     "execution_count": 8,
     "metadata": {},
     "output_type": "execute_result"
    }
   ],
   "source": [
    "df.head()"
   ]
  },
  {
   "cell_type": "code",
   "execution_count": 9,
   "id": "530aa724",
   "metadata": {},
   "outputs": [
    {
     "name": "stdout",
     "output_type": "stream",
     "text": [
      "<class 'pandas.core.frame.DataFrame'>\n",
      "Int64Index: 1854286 entries, 6 to 2152863\n",
      "Data columns (total 8 columns):\n",
      " #   Column      Dtype  \n",
      "---  ------      -----  \n",
      " 0   bedrooms    float64\n",
      " 1   bathrooms   float64\n",
      " 2   area        float64\n",
      " 3   tax_value   float64\n",
      " 4   year_built  float64\n",
      " 5   tax_amount  float64\n",
      " 6   fips        int64  \n",
      " 7   fips_loc    object \n",
      "dtypes: float64(6), int64(1), object(1)\n",
      "memory usage: 127.3+ MB\n"
     ]
    }
   ],
   "source": [
    "df.info()"
   ]
  },
  {
   "cell_type": "markdown",
   "id": "5f797f39",
   "metadata": {},
   "source": [
    "### Split the data"
   ]
  },
  {
   "cell_type": "code",
   "execution_count": 10,
   "id": "cb47f0aa",
   "metadata": {},
   "outputs": [],
   "source": [
    "train, validate, test = w.train_validate_test_split(df)"
   ]
  },
  {
   "cell_type": "code",
   "execution_count": 11,
   "id": "5b547c1c",
   "metadata": {},
   "outputs": [
    {
     "name": "stdout",
     "output_type": "stream",
     "text": [
      "<class 'pandas.core.frame.DataFrame'>\n",
      "Int64Index: 1297953 entries, 1560492 to 1910478\n",
      "Data columns (total 8 columns):\n",
      " #   Column      Non-Null Count    Dtype  \n",
      "---  ------      --------------    -----  \n",
      " 0   bedrooms    1297953 non-null  float64\n",
      " 1   bathrooms   1297953 non-null  float64\n",
      " 2   area        1297953 non-null  float64\n",
      " 3   tax_value   1297953 non-null  float64\n",
      " 4   year_built  1297953 non-null  float64\n",
      " 5   tax_amount  1297953 non-null  float64\n",
      " 6   fips        1297953 non-null  int64  \n",
      " 7   fips_loc    1297953 non-null  object \n",
      "dtypes: float64(6), int64(1), object(1)\n",
      "memory usage: 89.1+ MB\n"
     ]
    }
   ],
   "source": [
    "train.info()"
   ]
  },
  {
   "cell_type": "markdown",
   "id": "de523475",
   "metadata": {},
   "source": [
    "## Categorical variable exploration"
   ]
  },
  {
   "cell_type": "code",
   "execution_count": 36,
   "id": "684890c1",
   "metadata": {},
   "outputs": [],
   "source": [
    "cat_vars = ['bedrooms', 'bathrooms', 'year_built', 'fips_loc']"
   ]
  },
  {
   "cell_type": "code",
   "execution_count": 37,
   "id": "f062672d",
   "metadata": {},
   "outputs": [
    {
     "name": "stdout",
     "output_type": "stream",
     "text": [
      "bedrooms\n",
      "3.0    633211\n",
      "4.0    377678\n",
      "2.0    224540\n",
      "5.0     62524\n",
      "Name: bedrooms, dtype: int64\n",
      "3.0    48.785357\n",
      "4.0    29.097972\n",
      "2.0    17.299548\n",
      "5.0     4.817124\n",
      "Name: bedrooms, dtype: float64\n"
     ]
    },
    {
     "data": {
      "image/png": "[encoded data removed]",
      "text/plain": [
       "<Figure size 432x288 with 1 Axes>"
      ]
     },
     "metadata": {
      "needs_background": "light"
     },
     "output_type": "display_data"
    },
    {
     "name": "stdout",
     "output_type": "stream",
     "text": [
      "bathrooms\n",
      "2.0    637039\n",
      "1.0    270012\n",
      "3.0    245899\n",
      "2.5     92529\n",
      "4.0     22364\n",
      "1.5     21529\n",
      "3.5      8581\n",
      "Name: bathrooms, dtype: int64\n",
      "2.0    49.080283\n",
      "1.0    20.802910\n",
      "3.0    18.945139\n",
      "2.5     7.128841\n",
      "4.0     1.723021\n",
      "1.5     1.658689\n",
      "3.5     0.661118\n",
      "Name: bathrooms, dtype: float64\n"
     ]
    },
    {
     "data": {
      "image/png": "[encoded data removed]",
      "text/plain": [
       "<Figure size 432x288 with 1 Axes>"
      ]
     },
     "metadata": {
      "needs_background": "light"
     },
     "output_type": "display_data"
    },
    {
     "name": "stdout",
     "output_type": "stream",
     "text": [
      "year_built\n",
      "1955.0    56310\n",
      "1950.0    46928\n",
      "1954.0    45805\n",
      "1953.0    41228\n",
      "1956.0    40735\n",
      "          ...  \n",
      "1823.0        1\n",
      "1881.0        1\n",
      "1874.0        1\n",
      "1812.0        1\n",
      "1801.0        1\n",
      "Name: year_built, Length: 151, dtype: int64\n",
      "1955.0    4.338370\n",
      "1950.0    3.615539\n",
      "1954.0    3.529018\n",
      "1953.0    3.176386\n",
      "1956.0    3.138403\n",
      "            ...   \n",
      "1823.0    0.000077\n",
      "1881.0    0.000077\n",
      "1874.0    0.000077\n",
      "1812.0    0.000077\n",
      "1801.0    0.000077\n",
      "Name: year_built, Length: 151, dtype: float64\n"
     ]
    },
    {
     "data": {
      "image/png": "[encoded data removed]",
      "text/plain": [
       "<Figure size 432x288 with 1 Axes>"
      ]
     },
     "metadata": {
      "needs_background": "light"
     },
     "output_type": "display_data"
    },
    {
     "name": "stdout",
     "output_type": "stream",
     "text": [
      "fips_loc\n",
      "Los Angeles, CA    869267\n",
      "Orange, CA         327402\n",
      "Ventura, CA        101284\n",
      "Name: fips_loc, dtype: int64\n",
      "Los Angeles, CA    66.972148\n",
      "Orange, CA         25.224488\n",
      "Ventura, CA         7.803364\n",
      "Name: fips_loc, dtype: float64\n"
     ]
    },
    {
     "data": {
      "image/png": "[encoded data removed]",
      "text/plain": [
       "<Figure size 432x288 with 1 Axes>"
      ]
     },
     "metadata": {
      "needs_background": "light"
     },
     "output_type": "display_data"
    }
   ],
   "source": [
    "for col in cat_vars:\n",
    "    print(col)\n",
    "    print(train[col].value_counts())\n",
    "    print(train[col].value_counts(normalize=True)*100)\n",
    "    sns.countplot(x=col, data=train)\n",
    "    plt.show()"
   ]
  },
  {
   "cell_type": "markdown",
   "id": "8a1c140a",
   "metadata": {},
   "source": [
    "### Bedrooms"
   ]
  },
  {
   "cell_type": "code",
   "execution_count": 12,
   "id": "f56ae06f",
   "metadata": {},
   "outputs": [
    {
     "data": {
      "text/html": [
       "<div>\n",
       "<style scoped>\n",
       "    .dataframe tbody tr th:only-of-type {\n",
       "        vertical-align: middle;\n",
       "    }\n",
       "\n",
       "    .dataframe tbody tr th {\n",
       "        vertical-align: top;\n",
       "    }\n",
       "\n",
       "    .dataframe thead th {\n",
       "        text-align: right;\n",
       "    }\n",
       "</style>\n",
       "<table border=\"1\" class=\"dataframe\">\n",
       "  <thead>\n",
       "    <tr style=\"text-align: right;\">\n",
       "      <th></th>\n",
       "      <th>bedrooms</th>\n",
       "      <th>bathrooms</th>\n",
       "      <th>area</th>\n",
       "      <th>tax_value</th>\n",
       "      <th>year_built</th>\n",
       "      <th>tax_amount</th>\n",
       "      <th>fips</th>\n",
       "      <th>fips_loc</th>\n",
       "    </tr>\n",
       "  </thead>\n",
       "  <tbody>\n",
       "    <tr>\n",
       "      <th>1560492</th>\n",
       "      <td>3.0</td>\n",
       "      <td>2.0</td>\n",
       "      <td>1284.0</td>\n",
       "      <td>78502.0</td>\n",
       "      <td>1964.0</td>\n",
       "      <td>743.78</td>\n",
       "      <td>6059</td>\n",
       "      <td>Orange, CA</td>\n",
       "    </tr>\n",
       "    <tr>\n",
       "      <th>453041</th>\n",
       "      <td>4.0</td>\n",
       "      <td>2.0</td>\n",
       "      <td>1694.0</td>\n",
       "      <td>341772.0</td>\n",
       "      <td>1961.0</td>\n",
       "      <td>3609.74</td>\n",
       "      <td>6111</td>\n",
       "      <td>Ventura, CA</td>\n",
       "    </tr>\n",
       "    <tr>\n",
       "      <th>173764</th>\n",
       "      <td>4.0</td>\n",
       "      <td>3.0</td>\n",
       "      <td>1842.0</td>\n",
       "      <td>648122.0</td>\n",
       "      <td>1955.0</td>\n",
       "      <td>7796.86</td>\n",
       "      <td>6037</td>\n",
       "      <td>Los Angeles, CA</td>\n",
       "    </tr>\n",
       "    <tr>\n",
       "      <th>1649615</th>\n",
       "      <td>3.0</td>\n",
       "      <td>3.0</td>\n",
       "      <td>1922.0</td>\n",
       "      <td>219472.0</td>\n",
       "      <td>1992.0</td>\n",
       "      <td>4184.99</td>\n",
       "      <td>6037</td>\n",
       "      <td>Los Angeles, CA</td>\n",
       "    </tr>\n",
       "    <tr>\n",
       "      <th>607635</th>\n",
       "      <td>3.0</td>\n",
       "      <td>2.0</td>\n",
       "      <td>1627.0</td>\n",
       "      <td>69897.0</td>\n",
       "      <td>1925.0</td>\n",
       "      <td>959.89</td>\n",
       "      <td>6037</td>\n",
       "      <td>Los Angeles, CA</td>\n",
       "    </tr>\n",
       "  </tbody>\n",
       "</table>\n",
       "</div>"
      ],
      "text/plain": [
       "         bedrooms  bathrooms    area  tax_value  year_built  tax_amount  fips  \\\n",
       "1560492       3.0        2.0  1284.0    78502.0      1964.0      743.78  6059   \n",
       "453041        4.0        2.0  1694.0   341772.0      1961.0     3609.74  6111   \n",
       "173764        4.0        3.0  1842.0   648122.0      1955.0     7796.86  6037   \n",
       "1649615       3.0        3.0  1922.0   219472.0      1992.0     4184.99  6037   \n",
       "607635        3.0        2.0  1627.0    69897.0      1925.0      959.89  6037   \n",
       "\n",
       "                fips_loc  \n",
       "1560492       Orange, CA  \n",
       "453041       Ventura, CA  \n",
       "173764   Los Angeles, CA  \n",
       "1649615  Los Angeles, CA  \n",
       "607635   Los Angeles, CA  "
      ]
     },
     "execution_count": 12,
     "metadata": {},
     "output_type": "execute_result"
    }
   ],
   "source": [
    "train.head()"
   ]
  },
  {
   "cell_type": "code",
   "execution_count": 13,
   "id": "5f6c8a66",
   "metadata": {},
   "outputs": [
    {
     "data": {
      "text/plain": [
       "3.0    633211\n",
       "4.0    377678\n",
       "2.0    224540\n",
       "5.0     62524\n",
       "Name: bedrooms, dtype: int64"
      ]
     },
     "execution_count": 13,
     "metadata": {},
     "output_type": "execute_result"
    }
   ],
   "source": [
    "train.bedrooms.value_counts()"
   ]
  },
  {
   "cell_type": "code",
   "execution_count": 14,
   "id": "25a56d64",
   "metadata": {},
   "outputs": [
    {
     "data": {
      "image/png": "[encoded data removed]",
      "text/plain": [
       "<Figure size 720x504 with 1 Axes>"
      ]
     },
     "metadata": {
      "needs_background": "light"
     },
     "output_type": "display_data"
    }
   ],
   "source": [
    "# Creating histogram\n",
    "fig, ax = plt.subplots(figsize =(10, 7), tight_layout = True)\n",
    "ax.hist(train.bedrooms, bins = [0, 3, 6, 9, 12, 15])\n",
    "plt.xlabel(\"X-axis\")\n",
    "plt.ylabel(\"y-axis\")\n",
    "plt.title('Bedrooms Histogram')\n",
    " \n",
    "# Show plot\n",
    "plt.show()"
   ]
  },
  {
   "cell_type": "code",
   "execution_count": 15,
   "id": "a6cf6647",
   "metadata": {},
   "outputs": [
    {
     "data": {
      "image/png": "[encoded data removed]",
      "text/plain": [
       "<Figure size 360x360 with 1 Axes>"
      ]
     },
     "metadata": {
      "needs_background": "light"
     },
     "output_type": "display_data"
    }
   ],
   "source": [
    "#Displot\n",
    "sns.displot(x='bedrooms', data=train, bins=5)\n",
    "plt.title('bedrooms')\n",
    "plt.show()"
   ]
  },
  {
   "cell_type": "code",
   "execution_count": 16,
   "id": "d5dee85a",
   "metadata": {},
   "outputs": [
    {
     "data": {
      "image/png": "[encoded data removed]",
      "text/plain": [
       "<Figure size 1152x216 with 3 Axes>"
      ]
     },
     "metadata": {
      "needs_background": "light"
     },
     "output_type": "display_data"
    }
   ],
   "source": [
    "plt.figure(figsize=(16, 3))\n",
    "\n",
    "# List of columns\n",
    "cols = ['bedrooms', 'bathrooms', 'year_built']\n",
    "for i, col in enumerate(cols):\n",
    "    # i starts at 0, but plot nos should start at 1\n",
    "    subplot_num = i+1\n",
    "    # Create subplot.\n",
    "    plt.subplot(1,4,subplot_num)\n",
    "    # Title with column name.\n",
    "    plt.title(col)\n",
    "    # Display histogram for column.\n",
    "    train[col].hist(bins=10)\n",
    "    # Hide gridlines.\n",
    "    plt.grid(False)"
   ]
  },
  {
   "cell_type": "code",
   "execution_count": 17,
   "id": "8f3a9c1f",
   "metadata": {},
   "outputs": [
    {
     "name": "stdout",
     "output_type": "stream",
     "text": [
      "Mean bedrooms = 3.214326712908711\n",
      "Median Bedrooms = 3.0\n",
      "Mode Bedrooms = 0    3.0\n",
      "Name: bedrooms, dtype: float64\n",
      "Max Bedrooms = 5.0\n",
      "Min Bedrooms = 2.0\n"
     ]
    }
   ],
   "source": [
    "#Descriptive statistics\n",
    "print(f'Mean bedrooms = {train.bedrooms.mean()}')\n",
    "print(f'Median Bedrooms = {train.bedrooms.median()}')\n",
    "print(f'Mode Bedrooms = {train.bedrooms.mode()}')\n",
    "print(f'Max Bedrooms = {train.bedrooms.max()}')\n",
    "print(f'Min Bedrooms = {train.bedrooms.min()}')"
   ]
  },
  {
   "cell_type": "markdown",
   "id": "395735f1",
   "metadata": {},
   "source": [
    "### Bathrooms"
   ]
  },
  {
   "cell_type": "code",
   "execution_count": 18,
   "id": "fb0ef61d",
   "metadata": {},
   "outputs": [
    {
     "data": {
      "text/html": [
       "<div>\n",
       "<style scoped>\n",
       "    .dataframe tbody tr th:only-of-type {\n",
       "        vertical-align: middle;\n",
       "    }\n",
       "\n",
       "    .dataframe tbody tr th {\n",
       "        vertical-align: top;\n",
       "    }\n",
       "\n",
       "    .dataframe thead th {\n",
       "        text-align: right;\n",
       "    }\n",
       "</style>\n",
       "<table border=\"1\" class=\"dataframe\">\n",
       "  <thead>\n",
       "    <tr style=\"text-align: right;\">\n",
       "      <th></th>\n",
       "      <th>bedrooms</th>\n",
       "      <th>bathrooms</th>\n",
       "      <th>area</th>\n",
       "      <th>tax_value</th>\n",
       "      <th>year_built</th>\n",
       "      <th>tax_amount</th>\n",
       "      <th>fips</th>\n",
       "      <th>fips_loc</th>\n",
       "    </tr>\n",
       "  </thead>\n",
       "  <tbody>\n",
       "    <tr>\n",
       "      <th>1560492</th>\n",
       "      <td>3.0</td>\n",
       "      <td>2.0</td>\n",
       "      <td>1284.0</td>\n",
       "      <td>78502.0</td>\n",
       "      <td>1964.0</td>\n",
       "      <td>743.78</td>\n",
       "      <td>6059</td>\n",
       "      <td>Orange, CA</td>\n",
       "    </tr>\n",
       "    <tr>\n",
       "      <th>453041</th>\n",
       "      <td>4.0</td>\n",
       "      <td>2.0</td>\n",
       "      <td>1694.0</td>\n",
       "      <td>341772.0</td>\n",
       "      <td>1961.0</td>\n",
       "      <td>3609.74</td>\n",
       "      <td>6111</td>\n",
       "      <td>Ventura, CA</td>\n",
       "    </tr>\n",
       "    <tr>\n",
       "      <th>173764</th>\n",
       "      <td>4.0</td>\n",
       "      <td>3.0</td>\n",
       "      <td>1842.0</td>\n",
       "      <td>648122.0</td>\n",
       "      <td>1955.0</td>\n",
       "      <td>7796.86</td>\n",
       "      <td>6037</td>\n",
       "      <td>Los Angeles, CA</td>\n",
       "    </tr>\n",
       "    <tr>\n",
       "      <th>1649615</th>\n",
       "      <td>3.0</td>\n",
       "      <td>3.0</td>\n",
       "      <td>1922.0</td>\n",
       "      <td>219472.0</td>\n",
       "      <td>1992.0</td>\n",
       "      <td>4184.99</td>\n",
       "      <td>6037</td>\n",
       "      <td>Los Angeles, CA</td>\n",
       "    </tr>\n",
       "    <tr>\n",
       "      <th>607635</th>\n",
       "      <td>3.0</td>\n",
       "      <td>2.0</td>\n",
       "      <td>1627.0</td>\n",
       "      <td>69897.0</td>\n",
       "      <td>1925.0</td>\n",
       "      <td>959.89</td>\n",
       "      <td>6037</td>\n",
       "      <td>Los Angeles, CA</td>\n",
       "    </tr>\n",
       "  </tbody>\n",
       "</table>\n",
       "</div>"
      ],
      "text/plain": [
       "         bedrooms  bathrooms    area  tax_value  year_built  tax_amount  fips  \\\n",
       "1560492       3.0        2.0  1284.0    78502.0      1964.0      743.78  6059   \n",
       "453041        4.0        2.0  1694.0   341772.0      1961.0     3609.74  6111   \n",
       "173764        4.0        3.0  1842.0   648122.0      1955.0     7796.86  6037   \n",
       "1649615       3.0        3.0  1922.0   219472.0      1992.0     4184.99  6037   \n",
       "607635        3.0        2.0  1627.0    69897.0      1925.0      959.89  6037   \n",
       "\n",
       "                fips_loc  \n",
       "1560492       Orange, CA  \n",
       "453041       Ventura, CA  \n",
       "173764   Los Angeles, CA  \n",
       "1649615  Los Angeles, CA  \n",
       "607635   Los Angeles, CA  "
      ]
     },
     "execution_count": 18,
     "metadata": {},
     "output_type": "execute_result"
    }
   ],
   "source": [
    "train.head()"
   ]
  },
  {
   "cell_type": "code",
   "execution_count": 19,
   "id": "592b0f10",
   "metadata": {},
   "outputs": [
    {
     "name": "stdout",
     "output_type": "stream",
     "text": [
      "<class 'pandas.core.frame.DataFrame'>\n",
      "Int64Index: 1297953 entries, 1560492 to 1910478\n",
      "Data columns (total 8 columns):\n",
      " #   Column      Non-Null Count    Dtype  \n",
      "---  ------      --------------    -----  \n",
      " 0   bedrooms    1297953 non-null  float64\n",
      " 1   bathrooms   1297953 non-null  float64\n",
      " 2   area        1297953 non-null  float64\n",
      " 3   tax_value   1297953 non-null  float64\n",
      " 4   year_built  1297953 non-null  float64\n",
      " 5   tax_amount  1297953 non-null  float64\n",
      " 6   fips        1297953 non-null  int64  \n",
      " 7   fips_loc    1297953 non-null  object \n",
      "dtypes: float64(6), int64(1), object(1)\n",
      "memory usage: 121.4+ MB\n"
     ]
    }
   ],
   "source": [
    "train.info()"
   ]
  },
  {
   "cell_type": "code",
   "execution_count": 20,
   "id": "79aa3794",
   "metadata": {},
   "outputs": [
    {
     "data": {
      "text/plain": [
       "2.0    637039\n",
       "1.0    270012\n",
       "3.0    245899\n",
       "2.5     92529\n",
       "4.0     22364\n",
       "1.5     21529\n",
       "3.5      8581\n",
       "Name: bathrooms, dtype: int64"
      ]
     },
     "execution_count": 20,
     "metadata": {},
     "output_type": "execute_result"
    }
   ],
   "source": [
    "train.bathrooms.value_counts()"
   ]
  },
  {
   "cell_type": "code",
   "execution_count": 21,
   "id": "94d7c41b",
   "metadata": {},
   "outputs": [
    {
     "name": "stdout",
     "output_type": "stream",
     "text": [
      "Mean Bathrooms = 2.053150229630811\n",
      "Median Bathrooms = 2.0\n",
      "Mode Bathrooms = 0    2.0\n",
      "Name: bathrooms, dtype: float64\n",
      "Max Bathrooms = 4.0\n",
      "Min Bathrooms = 1.0\n"
     ]
    }
   ],
   "source": [
    "#Descriptive statistics\n",
    "print(f'Mean Bathrooms = {train.bathrooms.mean()}')\n",
    "print(f'Median Bathrooms = {train.bathrooms.median()}')\n",
    "print(f'Mode Bathrooms = {train.bathrooms.mode()}')\n",
    "print(f'Max Bathrooms = {train.bathrooms.max()}')\n",
    "print(f'Min Bathrooms = {train.bathrooms.min()}')"
   ]
  },
  {
   "cell_type": "code",
   "execution_count": 22,
   "id": "0060cd39",
   "metadata": {},
   "outputs": [
    {
     "data": {
      "image/png": "[encoded data removed]",
      "text/plain": [
       "<Figure size 720x504 with 1 Axes>"
      ]
     },
     "metadata": {
      "needs_background": "light"
     },
     "output_type": "display_data"
    }
   ],
   "source": [
    "# Creating histogram\n",
    "fig, ax = plt.subplots(figsize =(10, 7), tight_layout = True)\n",
    "ax.hist(train.bathrooms, bins = [0, 1,2,3,4,5])\n",
    "plt.xlabel(\"X-axis\")\n",
    "plt.ylabel(\"y-axis\")\n",
    "plt.title('Bathrooms Histogram')\n",
    " \n",
    "# Show plot\n",
    "plt.show()"
   ]
  },
  {
   "cell_type": "code",
   "execution_count": 23,
   "id": "c29c2ae4",
   "metadata": {},
   "outputs": [
    {
     "data": {
      "image/png": "[encoded data removed]",
      "text/plain": [
       "<Figure size 360x360 with 1 Axes>"
      ]
     },
     "metadata": {
      "needs_background": "light"
     },
     "output_type": "display_data"
    }
   ],
   "source": [
    "#Displot\n",
    "sns.displot(x='bathrooms', data=train, bins=5)\n",
    "plt.title('bathrooms')\n",
    "plt.show()"
   ]
  },
  {
   "cell_type": "code",
   "execution_count": 24,
   "id": "175b2631",
   "metadata": {},
   "outputs": [
    {
     "name": "stdout",
     "output_type": "stream",
     "text": [
      "<class 'pandas.core.frame.DataFrame'>\n",
      "Int64Index: 1297953 entries, 1560492 to 1910478\n",
      "Data columns (total 8 columns):\n",
      " #   Column      Non-Null Count    Dtype  \n",
      "---  ------      --------------    -----  \n",
      " 0   bedrooms    1297953 non-null  float64\n",
      " 1   bathrooms   1297953 non-null  float64\n",
      " 2   area        1297953 non-null  float64\n",
      " 3   tax_value   1297953 non-null  float64\n",
      " 4   year_built  1297953 non-null  float64\n",
      " 5   tax_amount  1297953 non-null  float64\n",
      " 6   fips        1297953 non-null  int64  \n",
      " 7   fips_loc    1297953 non-null  object \n",
      "dtypes: float64(6), int64(1), object(1)\n",
      "memory usage: 121.4+ MB\n"
     ]
    }
   ],
   "source": [
    "train.info()"
   ]
  },
  {
   "cell_type": "markdown",
   "id": "f0131ba9",
   "metadata": {},
   "source": [
    "### Year_Built"
   ]
  },
  {
   "cell_type": "code",
   "execution_count": 25,
   "id": "2f43d13e",
   "metadata": {},
   "outputs": [
    {
     "data": {
      "text/plain": [
       "1955.0    56310\n",
       "1950.0    46928\n",
       "1954.0    45805\n",
       "1953.0    41228\n",
       "1956.0    40735\n",
       "          ...  \n",
       "1823.0        1\n",
       "1881.0        1\n",
       "1874.0        1\n",
       "1812.0        1\n",
       "1801.0        1\n",
       "Name: year_built, Length: 151, dtype: int64"
      ]
     },
     "execution_count": 25,
     "metadata": {},
     "output_type": "execute_result"
    }
   ],
   "source": [
    "train.year_built.value_counts()"
   ]
  },
  {
   "cell_type": "code",
   "execution_count": 26,
   "id": "052bbc8f",
   "metadata": {},
   "outputs": [
    {
     "name": "stdout",
     "output_type": "stream",
     "text": [
      "Mean Year Built = 1959.4289562102788\n",
      "Median Year Built = 1957.0\n",
      "Mode Year Built = 0    1955.0\n",
      "Name: year_built, dtype: float64\n",
      "Max Year Built = 2016.0\n",
      "Min Year Built = 1801.0\n"
     ]
    }
   ],
   "source": [
    "#Descriptive statistics\n",
    "print(f'Mean Year Built = {train.year_built.mean()}')\n",
    "print(f'Median Year Built = {train.year_built.median()}')\n",
    "print(f'Mode Year Built = {train.year_built.mode()}')\n",
    "print(f'Max Year Built = {train.year_built.max()}')\n",
    "print(f'Min Year Built = {train.year_built.min()}')"
   ]
  },
  {
   "cell_type": "code",
   "execution_count": 27,
   "id": "5876624a",
   "metadata": {},
   "outputs": [
    {
     "data": {
      "image/png": "[encoded data removed]",
      "text/plain": [
       "<Figure size 720x504 with 1 Axes>"
      ]
     },
     "metadata": {
      "needs_background": "light"
     },
     "output_type": "display_data"
    }
   ],
   "source": [
    "# Creating histogram\n",
    "fig, ax = plt.subplots(figsize =(10, 7), tight_layout = True)\n",
    "ax.hist(train.year_built, bins = [1850, 1875, 1900, 1925, 1950, 1975, 2000])\n",
    "plt.xlabel(\"X-axis\")\n",
    "plt.ylabel(\"y-axis\")\n",
    "plt.title('Year Built Histogram')\n",
    " \n",
    "# Show plot\n",
    "plt.show()"
   ]
  },
  {
   "cell_type": "code",
   "execution_count": 28,
   "id": "ad17e3c9",
   "metadata": {},
   "outputs": [
    {
     "data": {
      "image/png": "[encoded data removed]",
      "text/plain": [
       "<Figure size 360x360 with 1 Axes>"
      ]
     },
     "metadata": {
      "needs_background": "light"
     },
     "output_type": "display_data"
    }
   ],
   "source": [
    "#Displot\n",
    "sns.displot(x='year_built', data=train, bins=5)\n",
    "plt.title('year_built')\n",
    "plt.show()"
   ]
  },
  {
   "cell_type": "markdown",
   "id": "36561723",
   "metadata": {},
   "source": [
    "### FIPS"
   ]
  },
  {
   "cell_type": "code",
   "execution_count": 29,
   "id": "23db6839",
   "metadata": {},
   "outputs": [
    {
     "data": {
      "text/plain": [
       "6037    869267\n",
       "6059    327402\n",
       "6111    101284\n",
       "Name: fips, dtype: int64"
      ]
     },
     "execution_count": 29,
     "metadata": {},
     "output_type": "execute_result"
    }
   ],
   "source": [
    "train.fips.value_counts()"
   ]
  },
  {
   "cell_type": "code",
   "execution_count": null,
   "id": "c528ef39",
   "metadata": {},
   "outputs": [],
   "source": [
    "### FIPS--labeling fips--placed into clean file\n",
    "    zillow['fips'] = zillow.fips.astype(int)\n",
    "    zillow['fips_loc'] = zillow.fips.replace({6037:'Los Angeles, CA',\n",
    "                       6059:'Orange, CA',\n",
    "                       6111:'Ventura, CA'})"
   ]
  },
  {
   "cell_type": "code",
   "execution_count": 31,
   "id": "2b86f67e",
   "metadata": {},
   "outputs": [
    {
     "name": "stdout",
     "output_type": "stream",
     "text": [
      "Median FIPS = 6037.0\n",
      "Mode FIPS = 0    6037\n",
      "Name: fips, dtype: int64\n"
     ]
    }
   ],
   "source": [
    "#Descriptive Statistics\n",
    "print(f'Median FIPS = {train.fips.median()}')\n",
    "print(f'Mode FIPS = {train.fips.mode()}')"
   ]
  },
  {
   "cell_type": "code",
   "execution_count": 32,
   "id": "9fb005e6",
   "metadata": {},
   "outputs": [
    {
     "data": {
      "image/png": "[encoded data removed]",
      "text/plain": [
       "<Figure size 720x504 with 1 Axes>"
      ]
     },
     "metadata": {
      "needs_background": "light"
     },
     "output_type": "display_data"
    }
   ],
   "source": [
    "# Creating histogram\n",
    "fig, ax = plt.subplots(figsize =(10, 7), tight_layout = True)\n",
    "ax.hist(train.fips)\n",
    "plt.xlabel(\"X-axis\")\n",
    "plt.ylabel(\"y-axis\")\n",
    "plt.title('FIPS Location distribution')\n",
    " \n",
    "# Show plot\n",
    "plt.show()"
   ]
  },
  {
   "cell_type": "markdown",
   "id": "171dbd35",
   "metadata": {},
   "source": [
    "## Univariate Exploration of Continuous Variables"
   ]
  },
  {
   "cell_type": "code",
   "execution_count": 34,
   "id": "3bdca532",
   "metadata": {},
   "outputs": [
    {
     "data": {
      "text/html": [
       "<div>\n",
       "<style scoped>\n",
       "    .dataframe tbody tr th:only-of-type {\n",
       "        vertical-align: middle;\n",
       "    }\n",
       "\n",
       "    .dataframe tbody tr th {\n",
       "        vertical-align: top;\n",
       "    }\n",
       "\n",
       "    .dataframe thead th {\n",
       "        text-align: right;\n",
       "    }\n",
       "</style>\n",
       "<table border=\"1\" class=\"dataframe\">\n",
       "  <thead>\n",
       "    <tr style=\"text-align: right;\">\n",
       "      <th></th>\n",
       "      <th>bedrooms</th>\n",
       "      <th>bathrooms</th>\n",
       "      <th>area</th>\n",
       "      <th>tax_value</th>\n",
       "      <th>year_built</th>\n",
       "      <th>tax_amount</th>\n",
       "      <th>fips</th>\n",
       "      <th>fips_loc</th>\n",
       "    </tr>\n",
       "  </thead>\n",
       "  <tbody>\n",
       "    <tr>\n",
       "      <th>1560492</th>\n",
       "      <td>3.0</td>\n",
       "      <td>2.0</td>\n",
       "      <td>1284.0</td>\n",
       "      <td>78502.0</td>\n",
       "      <td>1964.0</td>\n",
       "      <td>743.78</td>\n",
       "      <td>6059</td>\n",
       "      <td>Orange, CA</td>\n",
       "    </tr>\n",
       "    <tr>\n",
       "      <th>453041</th>\n",
       "      <td>4.0</td>\n",
       "      <td>2.0</td>\n",
       "      <td>1694.0</td>\n",
       "      <td>341772.0</td>\n",
       "      <td>1961.0</td>\n",
       "      <td>3609.74</td>\n",
       "      <td>6111</td>\n",
       "      <td>Ventura, CA</td>\n",
       "    </tr>\n",
       "    <tr>\n",
       "      <th>173764</th>\n",
       "      <td>4.0</td>\n",
       "      <td>3.0</td>\n",
       "      <td>1842.0</td>\n",
       "      <td>648122.0</td>\n",
       "      <td>1955.0</td>\n",
       "      <td>7796.86</td>\n",
       "      <td>6037</td>\n",
       "      <td>Los Angeles, CA</td>\n",
       "    </tr>\n",
       "    <tr>\n",
       "      <th>1649615</th>\n",
       "      <td>3.0</td>\n",
       "      <td>3.0</td>\n",
       "      <td>1922.0</td>\n",
       "      <td>219472.0</td>\n",
       "      <td>1992.0</td>\n",
       "      <td>4184.99</td>\n",
       "      <td>6037</td>\n",
       "      <td>Los Angeles, CA</td>\n",
       "    </tr>\n",
       "    <tr>\n",
       "      <th>607635</th>\n",
       "      <td>3.0</td>\n",
       "      <td>2.0</td>\n",
       "      <td>1627.0</td>\n",
       "      <td>69897.0</td>\n",
       "      <td>1925.0</td>\n",
       "      <td>959.89</td>\n",
       "      <td>6037</td>\n",
       "      <td>Los Angeles, CA</td>\n",
       "    </tr>\n",
       "  </tbody>\n",
       "</table>\n",
       "</div>"
      ],
      "text/plain": [
       "         bedrooms  bathrooms    area  tax_value  year_built  tax_amount  fips  \\\n",
       "1560492       3.0        2.0  1284.0    78502.0      1964.0      743.78  6059   \n",
       "453041        4.0        2.0  1694.0   341772.0      1961.0     3609.74  6111   \n",
       "173764        4.0        3.0  1842.0   648122.0      1955.0     7796.86  6037   \n",
       "1649615       3.0        3.0  1922.0   219472.0      1992.0     4184.99  6037   \n",
       "607635        3.0        2.0  1627.0    69897.0      1925.0      959.89  6037   \n",
       "\n",
       "                fips_loc  \n",
       "1560492       Orange, CA  \n",
       "453041       Ventura, CA  \n",
       "173764   Los Angeles, CA  \n",
       "1649615  Los Angeles, CA  \n",
       "607635   Los Angeles, CA  "
      ]
     },
     "execution_count": 34,
     "metadata": {},
     "output_type": "execute_result"
    }
   ],
   "source": [
    "train.head()"
   ]
  },
  {
   "cell_type": "code",
   "execution_count": 35,
   "id": "e743d2d8",
   "metadata": {},
   "outputs": [],
   "source": [
    "num_vars = ['area', 'tax_value', 'tax_amount']\n",
    "cat_vars = ['bedrooms', 'bathrooms', 'year_built', 'fips_loc']"
   ]
  },
  {
   "cell_type": "code",
   "execution_count": 54,
   "id": "1b74ca04",
   "metadata": {},
   "outputs": [
    {
     "name": "stdout",
     "output_type": "stream",
     "text": [
      "Mean area is: 1653.0953670895633\n"
     ]
    },
    {
     "data": {
      "image/png": "[encoded data removed]",
      "text/plain": [
       "<Figure size 432x288 with 1 Axes>"
      ]
     },
     "metadata": {
      "needs_background": "light"
     },
     "output_type": "display_data"
    },
    {
     "data": {
      "image/png": "[encoded data removed]",
      "text/plain": [
       "<Figure size 432x288 with 1 Axes>"
      ]
     },
     "metadata": {
      "needs_background": "light"
     },
     "output_type": "display_data"
    },
    {
     "data": {
      "image/png": "[encoded data removed]",
      "text/plain": [
       "<Figure size 360x360 with 1 Axes>"
      ]
     },
     "metadata": {
      "needs_background": "light"
     },
     "output_type": "display_data"
    },
    {
     "name": "stdout",
     "output_type": "stream",
     "text": [
      "Mean tax_value is: 327806.6678038419\n"
     ]
    },
    {
     "data": {
      "image/png": "[encoded data removed]",
      "text/plain": [
       "<Figure size 432x288 with 1 Axes>"
      ]
     },
     "metadata": {
      "needs_background": "light"
     },
     "output_type": "display_data"
    },
    {
     "data": {
      "image/png": "[encoded data removed]",
      "text/plain": [
       "<Figure size 432x288 with 1 Axes>"
      ]
     },
     "metadata": {
      "needs_background": "light"
     },
     "output_type": "display_data"
    },
    {
     "data": {
      "image/png": "[encoded data removed]",
      "text/plain": [
       "<Figure size 360x360 with 1 Axes>"
      ]
     },
     "metadata": {
      "needs_background": "light"
     },
     "output_type": "display_data"
    },
    {
     "name": "stdout",
     "output_type": "stream",
     "text": [
      "Mean tax_amount is: 4067.901726649461\n"
     ]
    },
    {
     "data": {
      "image/png": "[encoded data removed]",
      "text/plain": [
       "<Figure size 432x288 with 1 Axes>"
      ]
     },
     "metadata": {
      "needs_background": "light"
     },
     "output_type": "display_data"
    },
    {
     "data": {
      "image/png": "[encoded data removed]",
      "text/plain": [
       "<Figure size 432x288 with 1 Axes>"
      ]
     },
     "metadata": {
      "needs_background": "light"
     },
     "output_type": "display_data"
    },
    {
     "data": {
      "image/png": "[encoded data removed]",
      "text/plain": [
       "<Figure size 360x360 with 1 Axes>"
      ]
     },
     "metadata": {
      "needs_background": "light"
     },
     "output_type": "display_data"
    }
   ],
   "source": [
    "#Visualize other numeric data\n",
    "# Plot numeric columns\n",
    "for col in num_vars:\n",
    "    print(f'Mean {col} is: {train[col].mean()}')\n",
    "    plt.hist(train[col])\n",
    "    plt.title(col)\n",
    "    plt.show()\n",
    "    plt.boxplot(train[col])\n",
    "    plt.title(col)\n",
    "    plt.show()\n",
    "    sns.displot(train[col])\n",
    "    plt.title(col)\n",
    "    plt.show()"
   ]
  },
  {
   "cell_type": "markdown",
   "id": "69756130",
   "metadata": {},
   "source": [
    "### Area (Square Footage)"
   ]
  },
  {
   "cell_type": "code",
   "execution_count": 46,
   "id": "c44462e2",
   "metadata": {},
   "outputs": [
    {
     "name": "stdout",
     "output_type": "stream",
     "text": [
      "Mean Area = 1653.0953670895633\n",
      "Median Area = 1547.0\n",
      "Mode Area = 0    1200.0\n",
      "Name: area, dtype: float64\n",
      "Max Area = 3408.0\n",
      "Min Area = 1.0\n"
     ]
    }
   ],
   "source": [
    "#Descriptive statistics\n",
    "print(f'Mean Area = {train.area.mean()}')\n",
    "print(f'Median Area = {train.area.median()}')\n",
    "print(f'Mode Area = {train.area.mode()}')\n",
    "print(f'Max Area = {train.area.max()}')\n",
    "print(f'Min Area = {train.area.min()}')"
   ]
  },
  {
   "cell_type": "markdown",
   "id": "59088843",
   "metadata": {},
   "source": [
    "### Tax Value (Price)"
   ]
  },
  {
   "cell_type": "code",
   "execution_count": 55,
   "id": "539d7b58",
   "metadata": {},
   "outputs": [
    {
     "name": "stdout",
     "output_type": "stream",
     "text": [
      "Mean Tax Value = 327806.6678038419\n",
      "Median Tax Value = 296465.0\n",
      "Mode Tax Value = 0    450000.0\n",
      "Name: tax_value, dtype: float64\n",
      "Max Tax Value = 950835.0\n",
      "Min Tax Value = 22.0\n"
     ]
    }
   ],
   "source": [
    "#Descriptive statistics\n",
    "print(f'Mean Tax Value = {train.tax_value.mean()}')\n",
    "print(f'Median Tax Value = {train.tax_value.median()}')\n",
    "print(f'Mode Tax Value = {train.tax_value.mode()}')\n",
    "print(f'Max Tax Value = {train.tax_value.max()}')\n",
    "print(f'Min Tax Value = {train.tax_value.min()}')"
   ]
  },
  {
   "cell_type": "code",
   "execution_count": null,
   "id": "4a712cb2",
   "metadata": {},
   "outputs": [],
   "source": []
  }
 ],
 "metadata": {
  "kernelspec": {
   "display_name": "Python 3 (ipykernel)",
   "language": "python",
   "name": "python3"
  },
  "language_info": {
   "codemirror_mode": {
    "name": "ipython",
    "version": 3
   },
   "file_extension": ".py",
   "mimetype": "text/x-python",
   "name": "python",
   "nbconvert_exporter": "python",
   "pygments_lexer": "ipython3",
   "version": "3.9.12"
  }
 },
 "nbformat": 4,
 "nbformat_minor": 5
}
