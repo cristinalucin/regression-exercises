{
 "cells": [
  {
   "cell_type": "code",
   "execution_count": 1,
   "id": "ceecbaf4",
   "metadata": {},
   "outputs": [],
   "source": [
    "#General DS imports\n",
    "import pandas as pd\n",
    "import numpy as np\n",
    "\n",
    "#Stats\n",
    "from sklearn.linear_model import LinearRegression\n",
    "from scipy import stats\n",
    "from sklearn.metrics import mean_squared_error, r2_score, explained_variance_score\n",
    "from sklearn.feature_selection import f_regression \n",
    "from math import sqrt\n",
    "\n",
    "#Visualizations\n",
    "import seaborn as sns\n",
    "import matplotlib.pyplot as plt\n",
    "\n",
    "#warnings\n",
    "import warnings\n",
    "warnings.filterwarnings('ignore')\n",
    "\n",
    "#My files\n",
    "import env\n",
    "import wrangle as w\n",
    "import model as m\n",
    "import explore as ex"
   ]
  },
  {
   "cell_type": "markdown",
   "id": "348b2ae5",
   "metadata": {},
   "source": [
    "### 1. Load your zillow dataset."
   ]
  },
  {
   "cell_type": "code",
   "execution_count": 2,
   "id": "e2424ec0",
   "metadata": {},
   "outputs": [],
   "source": [
    "#Get Zillow Data\n",
    "df = w.get_zillow_data()"
   ]
  },
  {
   "cell_type": "code",
   "execution_count": 3,
   "id": "b9397661",
   "metadata": {},
   "outputs": [
    {
     "data": {
      "text/html": [
       "<div>\n",
       "<style scoped>\n",
       "    .dataframe tbody tr th:only-of-type {\n",
       "        vertical-align: middle;\n",
       "    }\n",
       "\n",
       "    .dataframe tbody tr th {\n",
       "        vertical-align: top;\n",
       "    }\n",
       "\n",
       "    .dataframe thead th {\n",
       "        text-align: right;\n",
       "    }\n",
       "</style>\n",
       "<table border=\"1\" class=\"dataframe\">\n",
       "  <thead>\n",
       "    <tr style=\"text-align: right;\">\n",
       "      <th></th>\n",
       "      <th>bedroomcnt</th>\n",
       "      <th>bathroomcnt</th>\n",
       "      <th>calculatedfinishedsquarefeet</th>\n",
       "      <th>taxvaluedollarcnt</th>\n",
       "      <th>yearbuilt</th>\n",
       "      <th>taxamount</th>\n",
       "      <th>fips</th>\n",
       "    </tr>\n",
       "  </thead>\n",
       "  <tbody>\n",
       "    <tr>\n",
       "      <th>0</th>\n",
       "      <td>0.0</td>\n",
       "      <td>0.0</td>\n",
       "      <td>NaN</td>\n",
       "      <td>27516.0</td>\n",
       "      <td>NaN</td>\n",
       "      <td>NaN</td>\n",
       "      <td>6037.0</td>\n",
       "    </tr>\n",
       "    <tr>\n",
       "      <th>1</th>\n",
       "      <td>0.0</td>\n",
       "      <td>0.0</td>\n",
       "      <td>NaN</td>\n",
       "      <td>10.0</td>\n",
       "      <td>NaN</td>\n",
       "      <td>NaN</td>\n",
       "      <td>6037.0</td>\n",
       "    </tr>\n",
       "  </tbody>\n",
       "</table>\n",
       "</div>"
      ],
      "text/plain": [
       "   bedroomcnt  bathroomcnt  calculatedfinishedsquarefeet  taxvaluedollarcnt  \\\n",
       "0         0.0          0.0                           NaN            27516.0   \n",
       "1         0.0          0.0                           NaN               10.0   \n",
       "\n",
       "   yearbuilt  taxamount    fips  \n",
       "0        NaN        NaN  6037.0  \n",
       "1        NaN        NaN  6037.0  "
      ]
     },
     "execution_count": 3,
     "metadata": {},
     "output_type": "execute_result"
    }
   ],
   "source": [
    "df.head(2)"
   ]
  },
  {
   "cell_type": "code",
   "execution_count": 4,
   "id": "d52b6e3a",
   "metadata": {},
   "outputs": [],
   "source": [
    "#Clean Zillow Data\n",
    "df = w.clean_zillow(df)"
   ]
  },
  {
   "cell_type": "code",
   "execution_count": 5,
   "id": "8093106b",
   "metadata": {},
   "outputs": [
    {
     "data": {
      "text/html": [
       "<div>\n",
       "<style scoped>\n",
       "    .dataframe tbody tr th:only-of-type {\n",
       "        vertical-align: middle;\n",
       "    }\n",
       "\n",
       "    .dataframe tbody tr th {\n",
       "        vertical-align: top;\n",
       "    }\n",
       "\n",
       "    .dataframe thead th {\n",
       "        text-align: right;\n",
       "    }\n",
       "</style>\n",
       "<table border=\"1\" class=\"dataframe\">\n",
       "  <thead>\n",
       "    <tr style=\"text-align: right;\">\n",
       "      <th></th>\n",
       "      <th>bedrooms</th>\n",
       "      <th>bathrooms</th>\n",
       "      <th>square_feet</th>\n",
       "      <th>tax_value</th>\n",
       "      <th>year_built</th>\n",
       "      <th>tax_amount</th>\n",
       "      <th>fips</th>\n",
       "      <th>county</th>\n",
       "      <th>home_age</th>\n",
       "    </tr>\n",
       "  </thead>\n",
       "  <tbody>\n",
       "    <tr>\n",
       "      <th>4</th>\n",
       "      <td>4</td>\n",
       "      <td>2.0</td>\n",
       "      <td>3633</td>\n",
       "      <td>296425</td>\n",
       "      <td>2005</td>\n",
       "      <td>6941.39</td>\n",
       "      <td>6037</td>\n",
       "      <td>Los Angeles</td>\n",
       "      <td>12</td>\n",
       "    </tr>\n",
       "    <tr>\n",
       "      <th>6</th>\n",
       "      <td>3</td>\n",
       "      <td>4.0</td>\n",
       "      <td>1620</td>\n",
       "      <td>847770</td>\n",
       "      <td>2011</td>\n",
       "      <td>10244.94</td>\n",
       "      <td>6037</td>\n",
       "      <td>Los Angeles</td>\n",
       "      <td>6</td>\n",
       "    </tr>\n",
       "  </tbody>\n",
       "</table>\n",
       "</div>"
      ],
      "text/plain": [
       "   bedrooms  bathrooms  square_feet  tax_value  year_built  tax_amount  fips  \\\n",
       "4         4        2.0         3633     296425        2005     6941.39  6037   \n",
       "6         3        4.0         1620     847770        2011    10244.94  6037   \n",
       "\n",
       "        county  home_age  \n",
       "4  Los Angeles        12  \n",
       "6  Los Angeles         6  "
      ]
     },
     "execution_count": 5,
     "metadata": {},
     "output_type": "execute_result"
    }
   ],
   "source": [
    "df.head(2)"
   ]
  },
  {
   "cell_type": "code",
   "execution_count": 6,
   "id": "160f9128",
   "metadata": {},
   "outputs": [],
   "source": [
    "#Remove Outliers\n",
    "df = w.remove_outliers(df, ['bedrooms','bathrooms','square_feet','tax_value','tax_amount'])"
   ]
  },
  {
   "cell_type": "code",
   "execution_count": 7,
   "id": "b55fe922",
   "metadata": {},
   "outputs": [
    {
     "data": {
      "text/html": [
       "<div>\n",
       "<style scoped>\n",
       "    .dataframe tbody tr th:only-of-type {\n",
       "        vertical-align: middle;\n",
       "    }\n",
       "\n",
       "    .dataframe tbody tr th {\n",
       "        vertical-align: top;\n",
       "    }\n",
       "\n",
       "    .dataframe thead th {\n",
       "        text-align: right;\n",
       "    }\n",
       "</style>\n",
       "<table border=\"1\" class=\"dataframe\">\n",
       "  <thead>\n",
       "    <tr style=\"text-align: right;\">\n",
       "      <th></th>\n",
       "      <th>bedrooms</th>\n",
       "      <th>bathrooms</th>\n",
       "      <th>square_feet</th>\n",
       "      <th>tax_value</th>\n",
       "      <th>year_built</th>\n",
       "      <th>tax_amount</th>\n",
       "      <th>fips</th>\n",
       "      <th>county</th>\n",
       "      <th>home_age</th>\n",
       "    </tr>\n",
       "  </thead>\n",
       "  <tbody>\n",
       "    <tr>\n",
       "      <th>6</th>\n",
       "      <td>3</td>\n",
       "      <td>4.0</td>\n",
       "      <td>1620</td>\n",
       "      <td>847770</td>\n",
       "      <td>2011</td>\n",
       "      <td>10244.94</td>\n",
       "      <td>6037</td>\n",
       "      <td>Los Angeles</td>\n",
       "      <td>6</td>\n",
       "    </tr>\n",
       "    <tr>\n",
       "      <th>7</th>\n",
       "      <td>3</td>\n",
       "      <td>2.0</td>\n",
       "      <td>2077</td>\n",
       "      <td>646760</td>\n",
       "      <td>1926</td>\n",
       "      <td>7924.68</td>\n",
       "      <td>6037</td>\n",
       "      <td>Los Angeles</td>\n",
       "      <td>91</td>\n",
       "    </tr>\n",
       "  </tbody>\n",
       "</table>\n",
       "</div>"
      ],
      "text/plain": [
       "   bedrooms  bathrooms  square_feet  tax_value  year_built  tax_amount  fips  \\\n",
       "6         3        4.0         1620     847770        2011    10244.94  6037   \n",
       "7         3        2.0         2077     646760        1926     7924.68  6037   \n",
       "\n",
       "        county  home_age  \n",
       "6  Los Angeles         6  \n",
       "7  Los Angeles        91  "
      ]
     },
     "execution_count": 7,
     "metadata": {},
     "output_type": "execute_result"
    }
   ],
   "source": [
    "df.head(2)"
   ]
  },
  {
   "cell_type": "code",
   "execution_count": 8,
   "id": "0ea07289",
   "metadata": {},
   "outputs": [],
   "source": [
    "#Split data with function from wrangle\n",
    "train, validate, test = w.train_validate_test_split(df)"
   ]
  },
  {
   "cell_type": "code",
   "execution_count": 9,
   "id": "a16f5d4b",
   "metadata": {},
   "outputs": [
    {
     "data": {
      "text/html": [
       "<div>\n",
       "<style scoped>\n",
       "    .dataframe tbody tr th:only-of-type {\n",
       "        vertical-align: middle;\n",
       "    }\n",
       "\n",
       "    .dataframe tbody tr th {\n",
       "        vertical-align: top;\n",
       "    }\n",
       "\n",
       "    .dataframe thead th {\n",
       "        text-align: right;\n",
       "    }\n",
       "</style>\n",
       "<table border=\"1\" class=\"dataframe\">\n",
       "  <thead>\n",
       "    <tr style=\"text-align: right;\">\n",
       "      <th></th>\n",
       "      <th>bedrooms</th>\n",
       "      <th>bathrooms</th>\n",
       "      <th>square_feet</th>\n",
       "      <th>tax_value</th>\n",
       "      <th>year_built</th>\n",
       "      <th>tax_amount</th>\n",
       "      <th>fips</th>\n",
       "      <th>county</th>\n",
       "      <th>home_age</th>\n",
       "    </tr>\n",
       "  </thead>\n",
       "  <tbody>\n",
       "    <tr>\n",
       "      <th>1560492</th>\n",
       "      <td>3</td>\n",
       "      <td>2.0</td>\n",
       "      <td>1284</td>\n",
       "      <td>78502</td>\n",
       "      <td>1964</td>\n",
       "      <td>743.78</td>\n",
       "      <td>6059</td>\n",
       "      <td>Orange</td>\n",
       "      <td>53</td>\n",
       "    </tr>\n",
       "    <tr>\n",
       "      <th>453041</th>\n",
       "      <td>4</td>\n",
       "      <td>2.0</td>\n",
       "      <td>1694</td>\n",
       "      <td>341772</td>\n",
       "      <td>1961</td>\n",
       "      <td>3609.74</td>\n",
       "      <td>6111</td>\n",
       "      <td>Ventura</td>\n",
       "      <td>56</td>\n",
       "    </tr>\n",
       "  </tbody>\n",
       "</table>\n",
       "</div>"
      ],
      "text/plain": [
       "         bedrooms  bathrooms  square_feet  tax_value  year_built  tax_amount  \\\n",
       "1560492         3        2.0         1284      78502        1964      743.78   \n",
       "453041          4        2.0         1694     341772        1961     3609.74   \n",
       "\n",
       "         fips   county  home_age  \n",
       "1560492  6059   Orange        53  \n",
       "453041   6111  Ventura        56  "
      ]
     },
     "execution_count": 9,
     "metadata": {},
     "output_type": "execute_result"
    }
   ],
   "source": [
    "train.head(2)"
   ]
  },
  {
   "cell_type": "code",
   "execution_count": 10,
   "id": "49dff7ac",
   "metadata": {},
   "outputs": [
    {
     "name": "stdout",
     "output_type": "stream",
     "text": [
      "<class 'pandas.core.frame.DataFrame'>\n",
      "Int64Index: 1297953 entries, 1560492 to 1910478\n",
      "Data columns (total 9 columns):\n",
      " #   Column       Non-Null Count    Dtype  \n",
      "---  ------       --------------    -----  \n",
      " 0   bedrooms     1297953 non-null  int64  \n",
      " 1   bathrooms    1297953 non-null  float64\n",
      " 2   square_feet  1297953 non-null  int64  \n",
      " 3   tax_value    1297953 non-null  int64  \n",
      " 4   year_built   1297953 non-null  int64  \n",
      " 5   tax_amount   1297953 non-null  float64\n",
      " 6   fips         1297953 non-null  int64  \n",
      " 7   county       1297953 non-null  object \n",
      " 8   home_age     1297953 non-null  int64  \n",
      "dtypes: float64(2), int64(6), object(1)\n",
      "memory usage: 99.0+ MB\n"
     ]
    }
   ],
   "source": [
    "train.info()"
   ]
  },
  {
   "cell_type": "markdown",
   "id": "5eea42b2",
   "metadata": {},
   "source": [
    "### 2. Fit a linear regression model (ordinary least squares) and compute yhat, predictions of taxvaluedollarcnt using only calculatedfinishedsqft."
   ]
  },
  {
   "cell_type": "code",
   "execution_count": 11,
   "id": "1669b6f9",
   "metadata": {},
   "outputs": [],
   "source": [
    "#Creating new df with just square feet and the target\n",
    "zillow_lr = train[['square_feet','tax_value']].copy()"
   ]
  },
  {
   "cell_type": "code",
   "execution_count": 12,
   "id": "9372b197",
   "metadata": {},
   "outputs": [
    {
     "name": "stdout",
     "output_type": "stream",
     "text": [
      "<class 'pandas.core.frame.DataFrame'>\n",
      "Int64Index: 1297953 entries, 1560492 to 1910478\n",
      "Data columns (total 2 columns):\n",
      " #   Column       Non-Null Count    Dtype\n",
      "---  ------       --------------    -----\n",
      " 0   square_feet  1297953 non-null  int64\n",
      " 1   tax_value    1297953 non-null  int64\n",
      "dtypes: int64(2)\n",
      "memory usage: 29.7 MB\n"
     ]
    }
   ],
   "source": [
    "zillow_lr.info()"
   ]
  },
  {
   "cell_type": "code",
   "execution_count": 13,
   "id": "d54a5955",
   "metadata": {},
   "outputs": [],
   "source": [
    "#Reset index and drop old index\n",
    "zillow_lr = zillow_lr.reset_index(drop=True)"
   ]
  },
  {
   "cell_type": "code",
   "execution_count": 14,
   "id": "1d503664",
   "metadata": {},
   "outputs": [
    {
     "data": {
      "text/html": [
       "<div>\n",
       "<style scoped>\n",
       "    .dataframe tbody tr th:only-of-type {\n",
       "        vertical-align: middle;\n",
       "    }\n",
       "\n",
       "    .dataframe tbody tr th {\n",
       "        vertical-align: top;\n",
       "    }\n",
       "\n",
       "    .dataframe thead th {\n",
       "        text-align: right;\n",
       "    }\n",
       "</style>\n",
       "<table border=\"1\" class=\"dataframe\">\n",
       "  <thead>\n",
       "    <tr style=\"text-align: right;\">\n",
       "      <th></th>\n",
       "      <th>square_feet</th>\n",
       "      <th>tax_value</th>\n",
       "    </tr>\n",
       "  </thead>\n",
       "  <tbody>\n",
       "    <tr>\n",
       "      <th>0</th>\n",
       "      <td>1284</td>\n",
       "      <td>78502</td>\n",
       "    </tr>\n",
       "    <tr>\n",
       "      <th>1</th>\n",
       "      <td>1694</td>\n",
       "      <td>341772</td>\n",
       "    </tr>\n",
       "    <tr>\n",
       "      <th>2</th>\n",
       "      <td>1842</td>\n",
       "      <td>648122</td>\n",
       "    </tr>\n",
       "    <tr>\n",
       "      <th>3</th>\n",
       "      <td>1922</td>\n",
       "      <td>219472</td>\n",
       "    </tr>\n",
       "    <tr>\n",
       "      <th>4</th>\n",
       "      <td>1627</td>\n",
       "      <td>69897</td>\n",
       "    </tr>\n",
       "  </tbody>\n",
       "</table>\n",
       "</div>"
      ],
      "text/plain": [
       "   square_feet  tax_value\n",
       "0         1284      78502\n",
       "1         1694     341772\n",
       "2         1842     648122\n",
       "3         1922     219472\n",
       "4         1627      69897"
      ]
     },
     "execution_count": 14,
     "metadata": {},
     "output_type": "execute_result"
    }
   ],
   "source": [
    "zillow_lr.head()"
   ]
  },
  {
   "cell_type": "code",
   "execution_count": 15,
   "id": "ce68713c",
   "metadata": {},
   "outputs": [],
   "source": [
    "#Rename column names\n",
    "zillow_lr.rename(columns = {'square_feet':'x', 'tax_value':'y'}, inplace = True)"
   ]
  },
  {
   "cell_type": "code",
   "execution_count": 16,
   "id": "40d8d453",
   "metadata": {},
   "outputs": [
    {
     "data": {
      "text/html": [
       "<div>\n",
       "<style scoped>\n",
       "    .dataframe tbody tr th:only-of-type {\n",
       "        vertical-align: middle;\n",
       "    }\n",
       "\n",
       "    .dataframe tbody tr th {\n",
       "        vertical-align: top;\n",
       "    }\n",
       "\n",
       "    .dataframe thead th {\n",
       "        text-align: right;\n",
       "    }\n",
       "</style>\n",
       "<table border=\"1\" class=\"dataframe\">\n",
       "  <thead>\n",
       "    <tr style=\"text-align: right;\">\n",
       "      <th></th>\n",
       "      <th>x</th>\n",
       "      <th>y</th>\n",
       "    </tr>\n",
       "  </thead>\n",
       "  <tbody>\n",
       "    <tr>\n",
       "      <th>0</th>\n",
       "      <td>1284</td>\n",
       "      <td>78502</td>\n",
       "    </tr>\n",
       "    <tr>\n",
       "      <th>1</th>\n",
       "      <td>1694</td>\n",
       "      <td>341772</td>\n",
       "    </tr>\n",
       "  </tbody>\n",
       "</table>\n",
       "</div>"
      ],
      "text/plain": [
       "      x       y\n",
       "0  1284   78502\n",
       "1  1694  341772"
      ]
     },
     "execution_count": 16,
     "metadata": {},
     "output_type": "execute_result"
    }
   ],
   "source": [
    "zillow_lr.head(2)"
   ]
  },
  {
   "cell_type": "code",
   "execution_count": 17,
   "id": "4310c6cb",
   "metadata": {},
   "outputs": [
    {
     "data": {
      "image/png": "[encoded data removed]",
      "text/plain": [
       "<Figure size 432x288 with 1 Axes>"
      ]
     },
     "metadata": {
      "needs_background": "light"
     },
     "output_type": "display_data"
    }
   ],
   "source": [
    "# Visualize with scatter plot\n",
    "plt.scatter(zillow_lr.x, zillow_lr.y)\n",
    "\n",
    "plt.xlabel('x = Square Feet')\n",
    "plt.ylabel('y = Tax Value')\n",
    "plt.show()"
   ]
  },
  {
   "cell_type": "markdown",
   "id": "9530823d",
   "metadata": {},
   "source": [
    "### 2. Fit a linear regression model (ordinary least squares) and compute yhat, predictions of taxvaluedollarcnt using only calculatedfinishedsqft."
   ]
  },
  {
   "cell_type": "code",
   "execution_count": 22,
   "id": "26109c09",
   "metadata": {},
   "outputs": [
    {
     "name": "stdout",
     "output_type": "stream",
     "text": [
      "The baseline is: 327807\n"
     ]
    }
   ],
   "source": [
    "#calculate mean (Baseline)\n",
    "baseline = round(zillow_lr.y.mean())\n",
    "print(f'The baseline is: {round(baseline)}')"
   ]
  },
  {
   "cell_type": "code",
   "execution_count": 23,
   "id": "851ef475",
   "metadata": {},
   "outputs": [],
   "source": [
    "#add it to the df\n",
    "zillow_lr['baseline'] = baseline"
   ]
  },
  {
   "cell_type": "code",
   "execution_count": 24,
   "id": "20f8f09e",
   "metadata": {},
   "outputs": [
    {
     "data": {
      "text/html": [
       "<div>\n",
       "<style scoped>\n",
       "    .dataframe tbody tr th:only-of-type {\n",
       "        vertical-align: middle;\n",
       "    }\n",
       "\n",
       "    .dataframe tbody tr th {\n",
       "        vertical-align: top;\n",
       "    }\n",
       "\n",
       "    .dataframe thead th {\n",
       "        text-align: right;\n",
       "    }\n",
       "</style>\n",
       "<table border=\"1\" class=\"dataframe\">\n",
       "  <thead>\n",
       "    <tr style=\"text-align: right;\">\n",
       "      <th></th>\n",
       "      <th>x</th>\n",
       "      <th>y</th>\n",
       "      <th>baseline</th>\n",
       "    </tr>\n",
       "  </thead>\n",
       "  <tbody>\n",
       "    <tr>\n",
       "      <th>0</th>\n",
       "      <td>1284</td>\n",
       "      <td>78502</td>\n",
       "      <td>327807</td>\n",
       "    </tr>\n",
       "    <tr>\n",
       "      <th>1</th>\n",
       "      <td>1694</td>\n",
       "      <td>341772</td>\n",
       "      <td>327807</td>\n",
       "    </tr>\n",
       "  </tbody>\n",
       "</table>\n",
       "</div>"
      ],
      "text/plain": [
       "      x       y  baseline\n",
       "0  1284   78502    327807\n",
       "1  1694  341772    327807"
      ]
     },
     "execution_count": 24,
     "metadata": {},
     "output_type": "execute_result"
    }
   ],
   "source": [
    "zillow_lr.head(2)"
   ]
  },
  {
   "cell_type": "code",
   "execution_count": 27,
   "id": "ce62fb4d",
   "metadata": {},
   "outputs": [
    {
     "data": {
      "image/png": "[encoded data removed]",
      "text/plain": [
       "<Figure size 432x288 with 1 Axes>"
      ]
     },
     "metadata": {
      "needs_background": "light"
     },
     "output_type": "display_data"
    }
   ],
   "source": [
    "# plot data with baseline:\n",
    "plt.scatter(zillow_lr.x, zillow_lr.y)\n",
    "plt.axhline(baseline, color = \"red\", ls='--')\n",
    "\n",
    "plt.xlabel('x = square_feet')\n",
    "plt.ylabel('y = Tax Value')\n",
    "plt.title('baseline model')\n",
    "plt.show()"
   ]
  },
  {
   "cell_type": "code",
   "execution_count": 28,
   "id": "dddfc3a2",
   "metadata": {},
   "outputs": [],
   "source": [
    "# OLS = ordinary least squares\n",
    "# create the model object\n",
    "lm = LinearRegression()\n",
    "\n",
    "# fit the model to trainig data\n",
    "lm.fit(zillow_lr[['x']], zillow_lr.y)\n",
    "\n",
    "# make prediction\n",
    "# lm.predict will output a numpy array of values,\n",
    "# we will put those values into a series in df\n",
    "zillow_lr['yhat'] = lm.predict(zillow_lr[['x']])"
   ]
  },
  {
   "cell_type": "code",
   "execution_count": 30,
   "id": "2e40054c",
   "metadata": {},
   "outputs": [
    {
     "data": {
      "text/html": [
       "<div>\n",
       "<style scoped>\n",
       "    .dataframe tbody tr th:only-of-type {\n",
       "        vertical-align: middle;\n",
       "    }\n",
       "\n",
       "    .dataframe tbody tr th {\n",
       "        vertical-align: top;\n",
       "    }\n",
       "\n",
       "    .dataframe thead th {\n",
       "        text-align: right;\n",
       "    }\n",
       "</style>\n",
       "<table border=\"1\" class=\"dataframe\">\n",
       "  <thead>\n",
       "    <tr style=\"text-align: right;\">\n",
       "      <th></th>\n",
       "      <th>x</th>\n",
       "      <th>y</th>\n",
       "      <th>baseline</th>\n",
       "      <th>yhat</th>\n",
       "    </tr>\n",
       "  </thead>\n",
       "  <tbody>\n",
       "    <tr>\n",
       "      <th>0</th>\n",
       "      <td>1284</td>\n",
       "      <td>78502</td>\n",
       "      <td>327807</td>\n",
       "      <td>272830.565707</td>\n",
       "    </tr>\n",
       "    <tr>\n",
       "      <th>1</th>\n",
       "      <td>1694</td>\n",
       "      <td>341772</td>\n",
       "      <td>327807</td>\n",
       "      <td>333899.340527</td>\n",
       "    </tr>\n",
       "  </tbody>\n",
       "</table>\n",
       "</div>"
      ],
      "text/plain": [
       "      x       y  baseline           yhat\n",
       "0  1284   78502    327807  272830.565707\n",
       "1  1694  341772    327807  333899.340527"
      ]
     },
     "execution_count": 30,
     "metadata": {},
     "output_type": "execute_result"
    }
   ],
   "source": [
    "zillow_lr.head(2)"
   ]
  },
  {
   "cell_type": "code",
   "execution_count": 33,
   "id": "34409f3d",
   "metadata": {},
   "outputs": [
    {
     "data": {
      "image/png": "[encoded data removed]",
      "text/plain": [
       "<Figure size 432x288 with 1 Axes>"
      ]
     },
     "metadata": {
      "needs_background": "light"
     },
     "output_type": "display_data"
    }
   ],
   "source": [
    "# visualize the line of best fit from OLS linear model\n",
    "\n",
    "#scatter is my actuals\n",
    "plt.scatter(zillow_lr.x, zillow_lr.y)\n",
    "\n",
    "#lineplot is my regression line\n",
    "plt.plot(zillow_lr.x, zillow_lr.yhat, linewidth=2, color='red')\n",
    "\n",
    "plt.xlabel('x = Square Feet')\n",
    "plt.ylabel('y = Tax Value')\n",
    "plt.title('OLS linear model')\n",
    "plt.show()"
   ]
  },
  {
   "cell_type": "markdown",
   "id": "0a832252",
   "metadata": {},
   "source": [
    "### 3. Plot the residuals for the linear regression model that you made."
   ]
  },
  {
   "cell_type": "code",
   "execution_count": 34,
   "id": "3818f181",
   "metadata": {},
   "outputs": [],
   "source": [
    "# residual = actual - predicted\n",
    "zillow_lr['baseline_residual'] = zillow_lr.y - zillow_lr.baseline\n",
    "zillow_lr['residual'] = zillow_lr.y - zillow_lr.yhat"
   ]
  },
  {
   "cell_type": "code",
   "execution_count": 35,
   "id": "a3f10630",
   "metadata": {},
   "outputs": [
    {
     "data": {
      "text/html": [
       "<div>\n",
       "<style scoped>\n",
       "    .dataframe tbody tr th:only-of-type {\n",
       "        vertical-align: middle;\n",
       "    }\n",
       "\n",
       "    .dataframe tbody tr th {\n",
       "        vertical-align: top;\n",
       "    }\n",
       "\n",
       "    .dataframe thead th {\n",
       "        text-align: right;\n",
       "    }\n",
       "</style>\n",
       "<table border=\"1\" class=\"dataframe\">\n",
       "  <thead>\n",
       "    <tr style=\"text-align: right;\">\n",
       "      <th></th>\n",
       "      <th>x</th>\n",
       "      <th>y</th>\n",
       "      <th>baseline</th>\n",
       "      <th>yhat</th>\n",
       "      <th>baseline_residual</th>\n",
       "      <th>residual</th>\n",
       "    </tr>\n",
       "  </thead>\n",
       "  <tbody>\n",
       "    <tr>\n",
       "      <th>0</th>\n",
       "      <td>1284</td>\n",
       "      <td>78502</td>\n",
       "      <td>327807</td>\n",
       "      <td>272830.565707</td>\n",
       "      <td>-249305</td>\n",
       "      <td>-194328.565707</td>\n",
       "    </tr>\n",
       "    <tr>\n",
       "      <th>1</th>\n",
       "      <td>1694</td>\n",
       "      <td>341772</td>\n",
       "      <td>327807</td>\n",
       "      <td>333899.340527</td>\n",
       "      <td>13965</td>\n",
       "      <td>7872.659473</td>\n",
       "    </tr>\n",
       "  </tbody>\n",
       "</table>\n",
       "</div>"
      ],
      "text/plain": [
       "      x       y  baseline           yhat  baseline_residual       residual\n",
       "0  1284   78502    327807  272830.565707            -249305 -194328.565707\n",
       "1  1694  341772    327807  333899.340527              13965    7872.659473"
      ]
     },
     "execution_count": 35,
     "metadata": {},
     "output_type": "execute_result"
    }
   ],
   "source": [
    "zillow_lr.head(2)"
   ]
  },
  {
   "cell_type": "code",
   "execution_count": 38,
   "id": "b7c879cd",
   "metadata": {},
   "outputs": [
    {
     "data": {
      "image/png": "[encoded data removed]",
      "text/plain": [
       "<Figure size 432x288 with 1 Axes>"
      ]
     },
     "metadata": {
      "needs_background": "light"
     },
     "output_type": "display_data"
    }
   ],
   "source": [
    "# visualize the residuals\n",
    "\n",
    "#scatter\n",
    "plt.scatter(zillow_lr.baseline_residual, zillow_lr.y, color='blue')\n",
    "plt.scatter(zillow_lr.residual, zillow_lr.y, color = 'green')\n",
    "\n",
    "plt.xlabel('x = Square Feet')\n",
    "plt.ylabel('y = Tax Value')\n",
    "plt.title('Plotting Residuals')\n",
    "\n",
    "plt.show()"
   ]
  },
  {
   "cell_type": "markdown",
   "id": "53dea4ef",
   "metadata": {},
   "source": [
    "### 4. Calculate the sum of squared errors, explained sum of squares, total sum of squares, mean squared error, and root mean squared error for your model."
   ]
  },
  {
   "cell_type": "code",
   "execution_count": 51,
   "id": "46209d7d",
   "metadata": {},
   "outputs": [],
   "source": [
    "#See below"
   ]
  },
  {
   "cell_type": "markdown",
   "id": "b2367e28",
   "metadata": {},
   "source": [
    "### 5. Calculate the sum of squared errors, mean squared error, and root mean squared error for the baseline model (i.e. a model that always predicts the average taxvaluedollarcnt amount)."
   ]
  },
  {
   "cell_type": "code",
   "execution_count": 40,
   "id": "d503d662",
   "metadata": {},
   "outputs": [],
   "source": [
    "#Calculating Square of the residuals\n",
    "#difference between yhat and y, just squared\n",
    "zillow_lr['baseline_residual_2'] = zillow_lr.baseline_residual**2\n",
    "zillow_lr['residual_2'] = zillow_lr.residual**2"
   ]
  },
  {
   "cell_type": "code",
   "execution_count": 41,
   "id": "fd01c2bc",
   "metadata": {},
   "outputs": [
    {
     "data": {
      "text/html": [
       "<div>\n",
       "<style scoped>\n",
       "    .dataframe tbody tr th:only-of-type {\n",
       "        vertical-align: middle;\n",
       "    }\n",
       "\n",
       "    .dataframe tbody tr th {\n",
       "        vertical-align: top;\n",
       "    }\n",
       "\n",
       "    .dataframe thead th {\n",
       "        text-align: right;\n",
       "    }\n",
       "</style>\n",
       "<table border=\"1\" class=\"dataframe\">\n",
       "  <thead>\n",
       "    <tr style=\"text-align: right;\">\n",
       "      <th></th>\n",
       "      <th>x</th>\n",
       "      <th>y</th>\n",
       "      <th>baseline</th>\n",
       "      <th>yhat</th>\n",
       "      <th>baseline_residual</th>\n",
       "      <th>residual</th>\n",
       "      <th>baseline_residual_2</th>\n",
       "      <th>residual_2</th>\n",
       "    </tr>\n",
       "  </thead>\n",
       "  <tbody>\n",
       "    <tr>\n",
       "      <th>0</th>\n",
       "      <td>1284</td>\n",
       "      <td>78502</td>\n",
       "      <td>327807</td>\n",
       "      <td>272830.565707</td>\n",
       "      <td>-249305</td>\n",
       "      <td>-194328.565707</td>\n",
       "      <td>62152983025</td>\n",
       "      <td>3.776359e+10</td>\n",
       "    </tr>\n",
       "    <tr>\n",
       "      <th>1</th>\n",
       "      <td>1694</td>\n",
       "      <td>341772</td>\n",
       "      <td>327807</td>\n",
       "      <td>333899.340527</td>\n",
       "      <td>13965</td>\n",
       "      <td>7872.659473</td>\n",
       "      <td>195021225</td>\n",
       "      <td>6.197877e+07</td>\n",
       "    </tr>\n",
       "  </tbody>\n",
       "</table>\n",
       "</div>"
      ],
      "text/plain": [
       "      x       y  baseline           yhat  baseline_residual       residual  \\\n",
       "0  1284   78502    327807  272830.565707            -249305 -194328.565707   \n",
       "1  1694  341772    327807  333899.340527              13965    7872.659473   \n",
       "\n",
       "   baseline_residual_2    residual_2  \n",
       "0          62152983025  3.776359e+10  \n",
       "1            195021225  6.197877e+07  "
      ]
     },
     "execution_count": 41,
     "metadata": {},
     "output_type": "execute_result"
    }
   ],
   "source": [
    "zillow_lr.head(2)"
   ]
  },
  {
   "cell_type": "code",
   "execution_count": 42,
   "id": "1833f524",
   "metadata": {},
   "outputs": [
    {
     "name": "stdout",
     "output_type": "stream",
     "text": [
      "SSE Baseline = 51351540449416120.0\n",
      "SSE = 42184111649643496.0\n"
     ]
    }
   ],
   "source": [
    "## Summing up residual squares\n",
    "#add the residuals together\n",
    "SSE_baseline = zillow_lr.baseline_residual_2.sum()\n",
    "SSE = zillow_lr.residual_2.sum()\n",
    "print(\"SSE Baseline =\", \"{:.1f}\".format(SSE_baseline))\n",
    "print('SSE =', \"{:.1f}\".format(SSE))"
   ]
  },
  {
   "cell_type": "code",
   "execution_count": 45,
   "id": "1ae4ec92",
   "metadata": {},
   "outputs": [
    {
     "name": "stdout",
     "output_type": "stream",
     "text": [
      "MSE baseline = 39563482228.9\n",
      "MSE = 32500492429.0\n"
     ]
    }
   ],
   "source": [
    "#calcaluate MSE\n",
    "MSE_baseline = SSE_baseline/len(zillow_lr)\n",
    "MSE = SSE/len(zillow_lr)\n",
    "print(f\"MSE baseline = {MSE_baseline:.1f}\")\n",
    "print(f'MSE = {MSE:.1f}')"
   ]
  },
  {
   "cell_type": "code",
   "execution_count": 46,
   "id": "7a0b9a55",
   "metadata": {},
   "outputs": [
    {
     "name": "stdout",
     "output_type": "stream",
     "text": [
      "RMSE baseline =  198905.7\n",
      "RMSE =  180278.9\n"
     ]
    }
   ],
   "source": [
    "#calculate RMSE\n",
    "RMSE_baseline = MSE_baseline**.5\n",
    "RMSE = MSE**.5\n",
    "print(\"RMSE baseline = \", \"{:.1f}\".format(RMSE_baseline))\n",
    "print(\"RMSE = \", \"{:.1f}\".format(RMSE))"
   ]
  },
  {
   "cell_type": "code",
   "execution_count": 48,
   "id": "27173071",
   "metadata": {},
   "outputs": [
    {
     "name": "stdout",
     "output_type": "stream",
     "text": [
      "MSE baseline: 39563482228.87588\n",
      "MSE: 32500492428.958134\n"
     ]
    }
   ],
   "source": [
    "#Using SK Learn to do this\n",
    "MSE2_baseline = mean_squared_error(zillow_lr.y, zillow_lr.baseline)\n",
    "MSE2 = mean_squared_error(zillow_lr.y, zillow_lr.yhat)\n",
    "print(\"MSE baseline:\", MSE2_baseline) \n",
    "print(\"MSE:\", MSE2) "
   ]
  },
  {
   "cell_type": "code",
   "execution_count": 49,
   "id": "15aae10e",
   "metadata": {},
   "outputs": [
    {
     "name": "stdout",
     "output_type": "stream",
     "text": [
      "SSE baseline: 5.135154044941613e+16\n",
      "SSE: 4.2184111649643496e+16\n"
     ]
    }
   ],
   "source": [
    "SSE2_baseline =  MSE2_baseline * len(zillow_lr)\n",
    "SSE2 = MSE2 * len(zillow_lr)\n",
    "print(\"SSE baseline:\" ,SSE2_baseline) \n",
    "print(\"SSE:\", SSE2) "
   ]
  },
  {
   "cell_type": "code",
   "execution_count": 50,
   "id": "94c73a49",
   "metadata": {},
   "outputs": [
    {
     "name": "stdout",
     "output_type": "stream",
     "text": [
      "MSE baseline: 198905.71190610863\n",
      "MSE: 180278.92952022466\n"
     ]
    }
   ],
   "source": [
    "#Calculating RMSE with sklearn, using 'squared=false'\n",
    "MSE2_baseline = mean_squared_error(zillow_lr.y, zillow_lr.baseline, squared=False)\n",
    "MSE2 = mean_squared_error(zillow_lr.y, zillow_lr.yhat, squared=False)\n",
    "print(\"MSE baseline:\", MSE2_baseline) \n",
    "print(\"MSE:\", MSE2) "
   ]
  },
  {
   "cell_type": "markdown",
   "id": "1e44490c",
   "metadata": {},
   "source": [
    "### 6. Write python code that compares the sum of squared errors for your model against the sum of squared errors for the baseline model and outputs whether or not your model performs better than the baseline model."
   ]
  },
  {
   "cell_type": "code",
   "execution_count": 56,
   "id": "e73cd8c1",
   "metadata": {},
   "outputs": [
    {
     "name": "stdout",
     "output_type": "stream",
     "text": [
      "The difference in SSE from my model and the baseline is:9167428799772624.0\n",
      "This model performs better than the baseline\n"
     ]
    }
   ],
   "source": [
    "SSE_difference = SSE_baseline - SSE\n",
    "print(f'The difference in SSE from my model and the baseline is:{SSE_difference}')\n",
    "print(f'This model performs better than the baseline')"
   ]
  },
  {
   "cell_type": "markdown",
   "id": "675f7e98",
   "metadata": {},
   "source": [
    "### 7. What is the amount of variance explained in your model?"
   ]
  },
  {
   "cell_type": "code",
   "execution_count": 57,
   "id": "976c5f2a",
   "metadata": {},
   "outputs": [
    {
     "data": {
      "text/plain": [
       "0.17852295606989643"
      ]
     },
     "execution_count": 57,
     "metadata": {},
     "output_type": "execute_result"
    }
   ],
   "source": [
    "#Calculating R2 Manually:\n",
    "# Total Sum of Squares = SSE for baseline\n",
    "TSS = SSE_baseline\n",
    "# Sum of squared error for the regression line (Unexplained error)\n",
    "SSE\n",
    "# ESS - Explained sum of squares ('Explained Error')\n",
    "ESS = TSS - SSE\n",
    "# Calculate R2\n",
    "R2 = ESS/TSS\n",
    "R2"
   ]
  },
  {
   "cell_type": "code",
   "execution_count": 58,
   "id": "a2049a71",
   "metadata": {},
   "outputs": [
    {
     "data": {
      "text/plain": [
       "0.17852295606760582"
      ]
     },
     "execution_count": 58,
     "metadata": {},
     "output_type": "execute_result"
    }
   ],
   "source": [
    "#Calculating with sklearn\n",
    "#use r2_score\n",
    "r2_score = r2_score(zillow_lr.y, zillow_lr.yhat)"
   ]
  },
  {
   "cell_type": "markdown",
   "id": "ad18e419",
   "metadata": {},
   "source": [
    "### 8. Is your model better than the baseline model?"
   ]
  },
  {
   "cell_type": "code",
   "execution_count": 62,
   "id": "512fb022",
   "metadata": {},
   "outputs": [
    {
     "data": {
      "text/plain": [
       "-18626.78238588394"
      ]
     },
     "execution_count": 62,
     "metadata": {},
     "output_type": "execute_result"
    }
   ],
   "source": [
    "#Difference in RMSE\n",
    "RMSE - RMSE_baseline"
   ]
  },
  {
   "cell_type": "markdown",
   "id": "29897fa2",
   "metadata": {},
   "source": [
    "#### Yes, my model is better than the baseline"
   ]
  },
  {
   "cell_type": "markdown",
   "id": "7887510d",
   "metadata": {},
   "source": [
    "### 9. Create a file named evaluate.py that contains the following functions:"
   ]
  },
  {
   "cell_type": "markdown",
   "id": "122bd790",
   "metadata": {},
   "source": [
    "### plot_residuals(y, yhat): creates a residual plot:"
   ]
  },
  {
   "cell_type": "code",
   "execution_count": 67,
   "id": "57c7a75a",
   "metadata": {},
   "outputs": [],
   "source": [
    "def plot_residuals(y, yhat):\n",
    "    residuals = y - yhat\n",
    "    plt.scatter(x=y, y=residuals)\n",
    "    plt.xlabel('Home Value')\n",
    "    plt.ylabel('Residuals')\n",
    "    plt.title('Residual vs Home Value Plot')\n",
    "    plt.show()"
   ]
  },
  {
   "cell_type": "code",
   "execution_count": 68,
   "id": "fa8a0e10",
   "metadata": {},
   "outputs": [
    {
     "data": {
      "image/png": "[encoded data removed]",
      "text/plain": [
       "<Figure size 432x288 with 1 Axes>"
      ]
     },
     "metadata": {
      "needs_background": "light"
     },
     "output_type": "display_data"
    }
   ],
   "source": [
    "plot_residuals(zillow_lr.y, zillow_lr.yhat)"
   ]
  },
  {
   "cell_type": "markdown",
   "id": "f9c93da9",
   "metadata": {},
   "source": [
    "### regression_errors(y, yhat): returns the following values:\n",
    "- sum of squared errors (SSE)\n",
    "- explained sum of squares (ESS)\n",
    "- total sum of squares (TSS)\n",
    "- mean squared error (MSE)\n",
    "- root mean squared error (RMSE)"
   ]
  },
  {
   "cell_type": "code",
   "execution_count": 63,
   "id": "700b1be3",
   "metadata": {},
   "outputs": [],
   "source": [
    "def regression_errors(y, yhat):\n",
    "    #Mean Squared Error\n",
    "    MSE = mean_squared_error(y, yhat)\n",
    "    #Sum of Squared Errors\n",
    "    SSE = MSE2* len(y)\n",
    "    #Root Mean Squared Errors (RMSE)\n",
    "    RMSE = MSE**.5\n",
    "    #Explained sum of squares\n",
    "    ESS = ((yhat - y.mean())**2).sum()\n",
    "    #Total sum of squares\n",
    "    TSS = ESS + SSE\n",
    "    return MSE, SSE, RMSE, ESS, TSS"
   ]
  },
  {
   "cell_type": "code",
   "execution_count": 72,
   "id": "f63b8029",
   "metadata": {},
   "outputs": [
    {
     "data": {
      "text/plain": [
       "(32500492428.958134,\n",
       " 233993577407.56415,\n",
       " 180278.92952022466,\n",
       " 9167428799614580.0,\n",
       " 9167662793191988.0)"
      ]
     },
     "execution_count": 72,
     "metadata": {},
     "output_type": "execute_result"
    }
   ],
   "source": [
    "regression_errors(zillow_lr.y, zillow_lr.yhat)"
   ]
  },
  {
   "cell_type": "markdown",
   "id": "9a2559ee",
   "metadata": {},
   "source": [
    "### baseline_mean_errors(y): computes the SSE, MSE, and RMSE for the baseline model:"
   ]
  },
  {
   "cell_type": "code",
   "execution_count": 70,
   "id": "e324f6b3",
   "metadata": {},
   "outputs": [],
   "source": [
    "def baseline_mean_errors(y):\n",
    "    '''computes the SSE, MSE, and RMSE for the baseline model'''\n",
    "    #Calculate Baseline\n",
    "    baseline = np.repeat(y.mean(), len(y))\n",
    "    #Computes SSE, MSE, RMSE\n",
    "    MSE = mean_squared_error(y, baseline)\n",
    "    SSE = MSE * len(y)\n",
    "    RMSE = MSE **.5\n",
    "    return SSE, MSE, RMSE"
   ]
  },
  {
   "cell_type": "code",
   "execution_count": 71,
   "id": "3e77dab9",
   "metadata": {},
   "outputs": [
    {
     "data": {
      "text/plain": [
       "(5.135154044927293e+16, 39563482228.76555, 198905.71190583127)"
      ]
     },
     "execution_count": 71,
     "metadata": {},
     "output_type": "execute_result"
    }
   ],
   "source": [
    "baseline_mean_errors(zillow_lr.y)"
   ]
  },
  {
   "cell_type": "markdown",
   "id": "acf04167",
   "metadata": {},
   "source": [
    "### better_than_baseline(y, yhat): returns true if your model performs better than the baseline, otherwise false"
   ]
  },
  {
   "cell_type": "code",
   "execution_count": 73,
   "id": "6b33f097",
   "metadata": {},
   "outputs": [],
   "source": [
    "def better_than_baseline(y,yhat):\n",
    "    SSE, ESS, TSS, MSE, RMSE = regression_errors(y, yhat)\n",
    "    SSE_baseline, MSE_baseline, RMSE_baseline = baseline_mean_errors(y)\n",
    "    if MSE > MSE_baseline:\n",
    "        print(\"My model performs better than baseline\")\n",
    "    else:\n",
    "        print(\"My model performs worse than the baseline\")"
   ]
  },
  {
   "cell_type": "code",
   "execution_count": 74,
   "id": "b894a1cb",
   "metadata": {},
   "outputs": [
    {
     "name": "stdout",
     "output_type": "stream",
     "text": [
      "My model performs better than baseline\n"
     ]
    }
   ],
   "source": [
    "better_than_baseline(zillow_lr.y, zillow_lr.yhat)"
   ]
  },
  {
   "cell_type": "code",
   "execution_count": null,
   "id": "bfc5dc43",
   "metadata": {},
   "outputs": [],
   "source": []
  }
 ],
 "metadata": {
  "kernelspec": {
   "display_name": "Python 3 (ipykernel)",
   "language": "python",
   "name": "python3"
  },
  "language_info": {
   "codemirror_mode": {
    "name": "ipython",
    "version": 3
   },
   "file_extension": ".py",
   "mimetype": "text/x-python",
   "name": "python",
   "nbconvert_exporter": "python",
   "pygments_lexer": "ipython3",
   "version": "3.9.12"
  }
 },
 "nbformat": 4,
 "nbformat_minor": 5
}
