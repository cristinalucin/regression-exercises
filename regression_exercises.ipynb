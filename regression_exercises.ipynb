{
 "cells": [
  {
   "cell_type": "code",
   "execution_count": 1,
   "id": "7435b0c0",
   "metadata": {},
   "outputs": [],
   "source": [
    "import warnings\n",
    "warnings.filterwarnings(\"ignore\")\n",
    "\n",
    "import pandas as pd\n",
    "import matplotlib.pyplot as plt\n",
    "import seaborn as sns\n",
    "import numpy as np\n",
    "import env\n",
    "import wrangle as w\n",
    "from env import user, password, host"
   ]
  },
  {
   "cell_type": "markdown",
   "id": "5001f5d0",
   "metadata": {},
   "source": [
    "### 1. Acquire bedroomcnt, bathroomcnt, calculatedfinishedsquarefeet, taxvaluedollarcnt, yearbuilt, taxamount, and fips from the zillow database for all 'Single Family Residential' properties."
   ]
  },
  {
   "cell_type": "code",
   "execution_count": null,
   "id": "2669b31d",
   "metadata": {},
   "outputs": [],
   "source": [
    "url = f\"mysql+pymysql://{user}:{password}@{host}/zillow\""
   ]
  },
  {
   "cell_type": "code",
   "execution_count": null,
   "id": "8c88a74e",
   "metadata": {},
   "outputs": [],
   "source": [
    "query = '''\n",
    "            \n",
    "SELECT bedroomcnt, bathroomcnt, calculatedfinishedsquarefeet, taxvaluedollarcnt, yearbuilt, taxamount, fips\n",
    "FROM properties_2017\n",
    "\n",
    "LEFT JOIN propertylandusetype USING(propertylandusetypeid)\n",
    "\n",
    "WHERE propertylandusedesc IN (\"Single Family Residential\",                       \n",
    "                              \"Inferred Single Family Residential\")'''"
   ]
  },
  {
   "cell_type": "code",
   "execution_count": null,
   "id": "9414a508",
   "metadata": {},
   "outputs": [],
   "source": [
    "def get_zillow_data():\n",
    "    ''' Retrieve data from Zillow database within codeup, selecting specific features \n",
    "    '''\n",
    "    filename = \"zillow.csv\"\n",
    "\n",
    "    if os.path.isfile(filename):\n",
    "        return pd.read_csv(filename)\n",
    "    else:\n",
    "        # read the SQL query into a dataframe\n",
    "        query = '''\n",
    "            \n",
    "        SELECT bedroomcnt, bathroomcnt, calculatedfinishedsquarefeet, taxvaluedollarcnt, yearbuilt, taxamount, fips\n",
    "        FROM properties_2017\n",
    "\n",
    "        LEFT JOIN propertylandusetype USING(propertylandusetypeid)\n",
    "\n",
    "        WHERE propertylandusedesc IN (\"Single Family Residential\",                       \n",
    "                              \"Inferred Single Family Residential\")'''\n",
    "        df = pd.read_sql(query, get_connection('zillow'))\n",
    "\n",
    "        # Write that dataframe to disk for later. Called \"caching\" the data for later.\n",
    "        df.to_csv(filename)\n",
    "\n",
    "        # Return the dataframe to the calling code\n",
    "        return df\n",
    "    \n",
    "def get_connection(db, user=env.user, host=env.host, password=env.password):\n",
    "    return f'mysql+pymysql://{user}:{password}@{host}/{db}'"
   ]
  },
  {
   "cell_type": "code",
   "execution_count": 2,
   "id": "80b190bf",
   "metadata": {},
   "outputs": [],
   "source": [
    "df = w.get_zillow_data()"
   ]
  },
  {
   "cell_type": "code",
   "execution_count": 3,
   "id": "49b2b6ca",
   "metadata": {},
   "outputs": [
    {
     "data": {
      "text/html": [
       "<div>\n",
       "<style scoped>\n",
       "    .dataframe tbody tr th:only-of-type {\n",
       "        vertical-align: middle;\n",
       "    }\n",
       "\n",
       "    .dataframe tbody tr th {\n",
       "        vertical-align: top;\n",
       "    }\n",
       "\n",
       "    .dataframe thead th {\n",
       "        text-align: right;\n",
       "    }\n",
       "</style>\n",
       "<table border=\"1\" class=\"dataframe\">\n",
       "  <thead>\n",
       "    <tr style=\"text-align: right;\">\n",
       "      <th></th>\n",
       "      <th>Unnamed: 0</th>\n",
       "      <th>bedroomcnt</th>\n",
       "      <th>bathroomcnt</th>\n",
       "      <th>calculatedfinishedsquarefeet</th>\n",
       "      <th>taxvaluedollarcnt</th>\n",
       "      <th>yearbuilt</th>\n",
       "      <th>taxamount</th>\n",
       "      <th>fips</th>\n",
       "    </tr>\n",
       "  </thead>\n",
       "  <tbody>\n",
       "    <tr>\n",
       "      <th>0</th>\n",
       "      <td>0</td>\n",
       "      <td>0.0</td>\n",
       "      <td>0.0</td>\n",
       "      <td>NaN</td>\n",
       "      <td>27516.0</td>\n",
       "      <td>NaN</td>\n",
       "      <td>NaN</td>\n",
       "      <td>6037.0</td>\n",
       "    </tr>\n",
       "    <tr>\n",
       "      <th>1</th>\n",
       "      <td>1</td>\n",
       "      <td>0.0</td>\n",
       "      <td>0.0</td>\n",
       "      <td>NaN</td>\n",
       "      <td>10.0</td>\n",
       "      <td>NaN</td>\n",
       "      <td>NaN</td>\n",
       "      <td>6037.0</td>\n",
       "    </tr>\n",
       "    <tr>\n",
       "      <th>2</th>\n",
       "      <td>2</td>\n",
       "      <td>0.0</td>\n",
       "      <td>0.0</td>\n",
       "      <td>NaN</td>\n",
       "      <td>10.0</td>\n",
       "      <td>NaN</td>\n",
       "      <td>NaN</td>\n",
       "      <td>6037.0</td>\n",
       "    </tr>\n",
       "    <tr>\n",
       "      <th>3</th>\n",
       "      <td>3</td>\n",
       "      <td>0.0</td>\n",
       "      <td>0.0</td>\n",
       "      <td>NaN</td>\n",
       "      <td>2108.0</td>\n",
       "      <td>NaN</td>\n",
       "      <td>174.21</td>\n",
       "      <td>6037.0</td>\n",
       "    </tr>\n",
       "    <tr>\n",
       "      <th>4</th>\n",
       "      <td>4</td>\n",
       "      <td>4.0</td>\n",
       "      <td>2.0</td>\n",
       "      <td>3633.0</td>\n",
       "      <td>296425.0</td>\n",
       "      <td>2005.0</td>\n",
       "      <td>6941.39</td>\n",
       "      <td>6037.0</td>\n",
       "    </tr>\n",
       "  </tbody>\n",
       "</table>\n",
       "</div>"
      ],
      "text/plain": [
       "   Unnamed: 0  bedroomcnt  bathroomcnt  calculatedfinishedsquarefeet  \\\n",
       "0           0         0.0          0.0                           NaN   \n",
       "1           1         0.0          0.0                           NaN   \n",
       "2           2         0.0          0.0                           NaN   \n",
       "3           3         0.0          0.0                           NaN   \n",
       "4           4         4.0          2.0                        3633.0   \n",
       "\n",
       "   taxvaluedollarcnt  yearbuilt  taxamount    fips  \n",
       "0            27516.0        NaN        NaN  6037.0  \n",
       "1               10.0        NaN        NaN  6037.0  \n",
       "2               10.0        NaN        NaN  6037.0  \n",
       "3             2108.0        NaN     174.21  6037.0  \n",
       "4           296425.0     2005.0    6941.39  6037.0  "
      ]
     },
     "execution_count": 3,
     "metadata": {},
     "output_type": "execute_result"
    }
   ],
   "source": [
    "df.head()"
   ]
  },
  {
   "cell_type": "markdown",
   "id": "b89f7ead",
   "metadata": {},
   "source": [
    "### 2. Using your acquired Zillow data, walk through the summarization and cleaning steps in your wrangle.ipynb file like we did above. You may handle the missing values however you feel is appropriate and meaningful; remember to document your process and decisions using markdown and code commenting where helpful."
   ]
  },
  {
   "cell_type": "code",
   "execution_count": null,
   "id": "59ae6433",
   "metadata": {},
   "outputs": [],
   "source": [
    "df.head()"
   ]
  },
  {
   "cell_type": "code",
   "execution_count": null,
   "id": "c2547594",
   "metadata": {},
   "outputs": [],
   "source": [
    "df.shape"
   ]
  },
  {
   "cell_type": "code",
   "execution_count": null,
   "id": "d7143f02",
   "metadata": {},
   "outputs": [],
   "source": [
    "df.describe().T"
   ]
  },
  {
   "cell_type": "code",
   "execution_count": null,
   "id": "63c8b81b",
   "metadata": {},
   "outputs": [],
   "source": [
    "df.info()"
   ]
  },
  {
   "cell_type": "code",
   "execution_count": null,
   "id": "95c71810",
   "metadata": {},
   "outputs": [],
   "source": [
    "df.info(null_counts=True)"
   ]
  },
  {
   "cell_type": "code",
   "execution_count": null,
   "id": "f8e7d318",
   "metadata": {},
   "outputs": [],
   "source": [
    "# Find the total number of Null values in each column of our DataFrame.\n",
    "df.isnull().sum()"
   ]
  },
  {
   "cell_type": "code",
   "execution_count": null,
   "id": "da4a7a27",
   "metadata": {},
   "outputs": [],
   "source": [
    "# Check for any Null values in each column of our DataFrame.\n",
    "df.isnull().any()"
   ]
  },
  {
   "cell_type": "code",
   "execution_count": null,
   "id": "d27012b4",
   "metadata": {},
   "outputs": [],
   "source": [
    "# Return the names for any columns in our DataFrame with any Null values.\n",
    "df.columns[df.isnull().any()]"
   ]
  },
  {
   "cell_type": "code",
   "execution_count": null,
   "id": "da5cbd9e",
   "metadata": {},
   "outputs": [],
   "source": [
    "#Building a function to clean the data\n",
    "\n",
    "def clean_zillow(df):\n",
    "    ''' This function takes in zillow data and returns a clean dataset.\n",
    "    '''\n",
    "    # renaming columns\n",
    "    df = df.rename(columns = {'bedroomcnt':'bedrooms', \n",
    "                          'bathroomcnt':'bathrooms', \n",
    "                          'calculatedfinishedsquarefeet':'area',\n",
    "                          'taxvaluedollarcnt':'tax_value', \n",
    "                          'yearbuilt':'year_built',\n",
    "                          'taxamount':'tax_amount'\n",
    "                    })\n",
    "    \n",
    "    # Replace a whitespace sequence or empty with a NaN value and reassign this manipulation to df. \n",
    "    df = df.replace(r'^\\s*$', np.nan, regex=True)\n",
    "    "
   ]
  },
  {
   "cell_type": "code",
   "execution_count": 4,
   "id": "9420f6cc",
   "metadata": {},
   "outputs": [],
   "source": [
    "#Calling this function from my wrangle file\n",
    "w.clean_zillow(df)"
   ]
  },
  {
   "cell_type": "code",
   "execution_count": null,
   "id": "0f73da29",
   "metadata": {},
   "outputs": [],
   "source": [
    "# renaming columns\n",
    "df = df.rename(columns = {'bedroomcnt':'bedrooms', \n",
    "                          'bathroomcnt':'bathrooms', \n",
    "                          'calculatedfinishedsquarefeet':'area',\n",
    "                          'taxvaluedollarcnt':'tax_value', \n",
    "                          'yearbuilt':'year_built',\n",
    "                          'taxamount':'tax_amount'\n",
    "                    })"
   ]
  },
  {
   "cell_type": "code",
   "execution_count": 5,
   "id": "217f1046",
   "metadata": {},
   "outputs": [
    {
     "data": {
      "text/html": [
       "<div>\n",
       "<style scoped>\n",
       "    .dataframe tbody tr th:only-of-type {\n",
       "        vertical-align: middle;\n",
       "    }\n",
       "\n",
       "    .dataframe tbody tr th {\n",
       "        vertical-align: top;\n",
       "    }\n",
       "\n",
       "    .dataframe thead th {\n",
       "        text-align: right;\n",
       "    }\n",
       "</style>\n",
       "<table border=\"1\" class=\"dataframe\">\n",
       "  <thead>\n",
       "    <tr style=\"text-align: right;\">\n",
       "      <th></th>\n",
       "      <th>Unnamed: 0</th>\n",
       "      <th>bedroomcnt</th>\n",
       "      <th>bathroomcnt</th>\n",
       "      <th>calculatedfinishedsquarefeet</th>\n",
       "      <th>taxvaluedollarcnt</th>\n",
       "      <th>yearbuilt</th>\n",
       "      <th>taxamount</th>\n",
       "      <th>fips</th>\n",
       "    </tr>\n",
       "  </thead>\n",
       "  <tbody>\n",
       "    <tr>\n",
       "      <th>0</th>\n",
       "      <td>0</td>\n",
       "      <td>0.0</td>\n",
       "      <td>0.0</td>\n",
       "      <td>NaN</td>\n",
       "      <td>27516.0</td>\n",
       "      <td>NaN</td>\n",
       "      <td>NaN</td>\n",
       "      <td>6037.0</td>\n",
       "    </tr>\n",
       "    <tr>\n",
       "      <th>1</th>\n",
       "      <td>1</td>\n",
       "      <td>0.0</td>\n",
       "      <td>0.0</td>\n",
       "      <td>NaN</td>\n",
       "      <td>10.0</td>\n",
       "      <td>NaN</td>\n",
       "      <td>NaN</td>\n",
       "      <td>6037.0</td>\n",
       "    </tr>\n",
       "    <tr>\n",
       "      <th>2</th>\n",
       "      <td>2</td>\n",
       "      <td>0.0</td>\n",
       "      <td>0.0</td>\n",
       "      <td>NaN</td>\n",
       "      <td>10.0</td>\n",
       "      <td>NaN</td>\n",
       "      <td>NaN</td>\n",
       "      <td>6037.0</td>\n",
       "    </tr>\n",
       "    <tr>\n",
       "      <th>3</th>\n",
       "      <td>3</td>\n",
       "      <td>0.0</td>\n",
       "      <td>0.0</td>\n",
       "      <td>NaN</td>\n",
       "      <td>2108.0</td>\n",
       "      <td>NaN</td>\n",
       "      <td>174.21</td>\n",
       "      <td>6037.0</td>\n",
       "    </tr>\n",
       "    <tr>\n",
       "      <th>4</th>\n",
       "      <td>4</td>\n",
       "      <td>4.0</td>\n",
       "      <td>2.0</td>\n",
       "      <td>3633.0</td>\n",
       "      <td>296425.0</td>\n",
       "      <td>2005.0</td>\n",
       "      <td>6941.39</td>\n",
       "      <td>6037.0</td>\n",
       "    </tr>\n",
       "  </tbody>\n",
       "</table>\n",
       "</div>"
      ],
      "text/plain": [
       "   Unnamed: 0  bedroomcnt  bathroomcnt  calculatedfinishedsquarefeet  \\\n",
       "0           0         0.0          0.0                           NaN   \n",
       "1           1         0.0          0.0                           NaN   \n",
       "2           2         0.0          0.0                           NaN   \n",
       "3           3         0.0          0.0                           NaN   \n",
       "4           4         4.0          2.0                        3633.0   \n",
       "\n",
       "   taxvaluedollarcnt  yearbuilt  taxamount    fips  \n",
       "0            27516.0        NaN        NaN  6037.0  \n",
       "1               10.0        NaN        NaN  6037.0  \n",
       "2               10.0        NaN        NaN  6037.0  \n",
       "3             2108.0        NaN     174.21  6037.0  \n",
       "4           296425.0     2005.0    6941.39  6037.0  "
      ]
     },
     "execution_count": 5,
     "metadata": {},
     "output_type": "execute_result"
    }
   ],
   "source": [
    "df.head()"
   ]
  },
  {
   "cell_type": "code",
   "execution_count": null,
   "id": "3afe9273",
   "metadata": {},
   "outputs": [],
   "source": [
    "# Replace a whitespace sequence or empty with a NaN value and reassign this manipulation to df.\n",
    "\n",
    "df = df.replace(r'^\\s*$', np.nan, regex=True)"
   ]
  },
  {
   "cell_type": "code",
   "execution_count": null,
   "id": "61eeb637",
   "metadata": {},
   "outputs": [],
   "source": [
    "# making distribution plots BEDROOMS\n",
    "\n",
    "sns.displot(x='bedrooms', data=df, bins=5)\n",
    "plt.title('bedrooms')\n",
    "plt.show()"
   ]
  },
  {
   "cell_type": "code",
   "execution_count": null,
   "id": "f0a1a7ab",
   "metadata": {},
   "outputs": [],
   "source": [
    "sns.displot(x='bathrooms', data=df, bins=5)\n",
    "plt.title('bathrooms')\n",
    "plt.show()"
   ]
  },
  {
   "cell_type": "code",
   "execution_count": null,
   "id": "99f86d42",
   "metadata": {},
   "outputs": [],
   "source": [
    "sns.displot(x='area', data=df, bins=5)\n",
    "plt.title('area')\n",
    "plt.show()"
   ]
  },
  {
   "cell_type": "code",
   "execution_count": null,
   "id": "2afc2902",
   "metadata": {},
   "outputs": [],
   "source": [
    "sns.displot(x='year_built', data=df, bins=5)\n",
    "plt.title('year_built')\n",
    "plt.show()"
   ]
  },
  {
   "cell_type": "code",
   "execution_count": null,
   "id": "4f047c5f",
   "metadata": {},
   "outputs": [],
   "source": [
    "sns.displot(x='tax_value', data=df, bins=5)\n",
    "plt.title('tax_value')\n",
    "plt.show()"
   ]
  },
  {
   "cell_type": "code",
   "execution_count": null,
   "id": "8ff26b30",
   "metadata": {},
   "outputs": [],
   "source": [
    "sns.displot(x='tax_amount', data=df, bins=5)\n",
    "plt.title('tax_amount')\n",
    "plt.show()"
   ]
  },
  {
   "cell_type": "code",
   "execution_count": null,
   "id": "c60aaa7d",
   "metadata": {},
   "outputs": [],
   "source": [
    "#Looking at outliers\n",
    "# List of columns\n",
    "cols = ['bedrooms', 'bathrooms', 'area', 'tax_value', 'tax_amount']\n",
    "\n",
    "for i, col in enumerate(cols):\n",
    "\n",
    "    plot_number = i + 1\n",
    "    # Create subplot\n",
    "    plt.subplot(1, len(cols), plot_number)\n",
    "    # Title with column name\n",
    "    plt.title(col)\n",
    "    # Display boxplot for column.\n",
    "    sns.boxplot(data=df[[col]])\n",
    "    # sets proper spacing between plots\n",
    "    plt.tight_layout()\n",
    "\n",
    "plt.show()"
   ]
  },
  {
   "cell_type": "code",
   "execution_count": null,
   "id": "ce367d26",
   "metadata": {},
   "outputs": [],
   "source": [
    "#Taking IQR approach to removing outliers\n",
    "# IQR\n",
    "Q1 = np.percentile(df['bedrooms'], 25,\n",
    "\t\t\t\tinterpolation = 'midpoint')\n",
    "\n",
    "Q3 = np.percentile(df['bedrooms'], 75,\n",
    "\t\t\t\tinterpolation = 'midpoint')\n",
    "IQR = Q3 - Q1"
   ]
  },
  {
   "cell_type": "code",
   "execution_count": null,
   "id": "36d6166e",
   "metadata": {},
   "outputs": [],
   "source": [
    "def outliers(df, feature):\n",
    "    Q1= df[feature].quantile(0.25)\n",
    "    Q3 = df[feature].quantile(0.75)\n",
    "    IQR = Q3 - Q1\n",
    "    upper_limit = Q3 + 1.5 * IQR\n",
    "    lower_limit = Q1 - 1.5 * IQR\n",
    "    return upper_limit, lower_limit"
   ]
  },
  {
   "cell_type": "code",
   "execution_count": null,
   "id": "b9d07e4a",
   "metadata": {},
   "outputs": [],
   "source": [
    "#IQR range for bedrooms\n",
    "upper, lower = outliers(df, \"bedrooms\")\n",
    "print(\"Upper whisker: \", upper)\n",
    "print(\"Lower Whisker: \", lower)"
   ]
  },
  {
   "cell_type": "code",
   "execution_count": null,
   "id": "cd83d2ae",
   "metadata": {},
   "outputs": [],
   "source": [
    "#IQR range for bathrooms\n",
    "upper,lower = outliers(df,'bathrooms')\n",
    "print(\"Upper whisker: \", upper)\n",
    "print(\"Lower Whisker: \", lower)"
   ]
  },
  {
   "cell_type": "code",
   "execution_count": null,
   "id": "08afcaf9",
   "metadata": {},
   "outputs": [],
   "source": [
    "#IQR range for area\n",
    "upper,lower = outliers(df,'area')\n",
    "print(\"Upper whisker: \", upper)\n",
    "print(\"Lower Whisker: \", lower)"
   ]
  },
  {
   "cell_type": "code",
   "execution_count": null,
   "id": "40527f1e",
   "metadata": {},
   "outputs": [],
   "source": [
    "df.info()"
   ]
  },
  {
   "cell_type": "code",
   "execution_count": null,
   "id": "4b81c075",
   "metadata": {},
   "outputs": [],
   "source": [
    "#Making a function to remove the outliers from entire dataset\n",
    "#Using 1.5 for limits\n",
    "\n",
    "def remove_outliers(df,feature_list):\n",
    "    \n",
    "    for feature in feature_list:\n",
    "    \n",
    "        #define interquartile range\n",
    "        Q1= df[feature].quantile(0.25)\n",
    "        Q3 = df[feature].quantile(0.75)\n",
    "        IQR = Q3 - Q1\n",
    "        #Set limits\n",
    "        upper_limit = Q3 + 1.5 * IQR\n",
    "        lower_limit = Q1 - 1.5 * IQR\n",
    "        #remove outliers\n",
    "        df = df[(df[feature] > lower_limit) & (df[feature] < upper_limit)]\n",
    "    \n",
    "    return df"
   ]
  },
  {
   "cell_type": "code",
   "execution_count": null,
   "id": "61d82e54",
   "metadata": {},
   "outputs": [],
   "source": [
    "df = remove_outliers(df,['bedrooms','bathrooms','area','tax_value','tax_amount'])"
   ]
  },
  {
   "cell_type": "code",
   "execution_count": null,
   "id": "7e4573d8",
   "metadata": {},
   "outputs": [],
   "source": [
    "df.info()"
   ]
  },
  {
   "cell_type": "code",
   "execution_count": null,
   "id": "8e3a54bc",
   "metadata": {},
   "outputs": [],
   "source": [
    "#Checking for null values now\n",
    "df.isnull().sum()"
   ]
  },
  {
   "cell_type": "code",
   "execution_count": null,
   "id": "150eccbc",
   "metadata": {},
   "outputs": [],
   "source": [
    "df.info(null_counts=True)"
   ]
  },
  {
   "cell_type": "code",
   "execution_count": 6,
   "id": "e511855e",
   "metadata": {},
   "outputs": [],
   "source": [
    "#Remove remainder of outliers\n",
    "df.dropna(inplace = True)"
   ]
  },
  {
   "cell_type": "code",
   "execution_count": 7,
   "id": "b89ebbf7",
   "metadata": {},
   "outputs": [
    {
     "name": "stdout",
     "output_type": "stream",
     "text": [
      "<class 'pandas.core.frame.DataFrame'>\n",
      "Int64Index: 2140235 entries, 4 to 2152863\n",
      "Data columns (total 8 columns):\n",
      " #   Column                        Non-Null Count    Dtype  \n",
      "---  ------                        --------------    -----  \n",
      " 0   Unnamed: 0                    2140235 non-null  int64  \n",
      " 1   bedroomcnt                    2140235 non-null  float64\n",
      " 2   bathroomcnt                   2140235 non-null  float64\n",
      " 3   calculatedfinishedsquarefeet  2140235 non-null  float64\n",
      " 4   taxvaluedollarcnt             2140235 non-null  float64\n",
      " 5   yearbuilt                     2140235 non-null  float64\n",
      " 6   taxamount                     2140235 non-null  float64\n",
      " 7   fips                          2140235 non-null  float64\n",
      "dtypes: float64(7), int64(1)\n",
      "memory usage: 147.0 MB\n"
     ]
    }
   ],
   "source": [
    "df.info(null_counts=True)"
   ]
  },
  {
   "cell_type": "code",
   "execution_count": 8,
   "id": "1131bf4f",
   "metadata": {},
   "outputs": [
    {
     "data": {
      "text/html": [
       "<div>\n",
       "<style scoped>\n",
       "    .dataframe tbody tr th:only-of-type {\n",
       "        vertical-align: middle;\n",
       "    }\n",
       "\n",
       "    .dataframe tbody tr th {\n",
       "        vertical-align: top;\n",
       "    }\n",
       "\n",
       "    .dataframe thead th {\n",
       "        text-align: right;\n",
       "    }\n",
       "</style>\n",
       "<table border=\"1\" class=\"dataframe\">\n",
       "  <thead>\n",
       "    <tr style=\"text-align: right;\">\n",
       "      <th></th>\n",
       "      <th>Unnamed: 0</th>\n",
       "      <th>bedroomcnt</th>\n",
       "      <th>bathroomcnt</th>\n",
       "      <th>calculatedfinishedsquarefeet</th>\n",
       "      <th>taxvaluedollarcnt</th>\n",
       "      <th>yearbuilt</th>\n",
       "      <th>taxamount</th>\n",
       "      <th>fips</th>\n",
       "    </tr>\n",
       "  </thead>\n",
       "  <tbody>\n",
       "    <tr>\n",
       "      <th>4</th>\n",
       "      <td>4</td>\n",
       "      <td>4.0</td>\n",
       "      <td>2.0</td>\n",
       "      <td>3633.0</td>\n",
       "      <td>296425.0</td>\n",
       "      <td>2005.0</td>\n",
       "      <td>6941.39</td>\n",
       "      <td>6037.0</td>\n",
       "    </tr>\n",
       "    <tr>\n",
       "      <th>6</th>\n",
       "      <td>6</td>\n",
       "      <td>3.0</td>\n",
       "      <td>4.0</td>\n",
       "      <td>1620.0</td>\n",
       "      <td>847770.0</td>\n",
       "      <td>2011.0</td>\n",
       "      <td>10244.94</td>\n",
       "      <td>6037.0</td>\n",
       "    </tr>\n",
       "    <tr>\n",
       "      <th>7</th>\n",
       "      <td>7</td>\n",
       "      <td>3.0</td>\n",
       "      <td>2.0</td>\n",
       "      <td>2077.0</td>\n",
       "      <td>646760.0</td>\n",
       "      <td>1926.0</td>\n",
       "      <td>7924.68</td>\n",
       "      <td>6037.0</td>\n",
       "    </tr>\n",
       "    <tr>\n",
       "      <th>11</th>\n",
       "      <td>11</td>\n",
       "      <td>0.0</td>\n",
       "      <td>0.0</td>\n",
       "      <td>1200.0</td>\n",
       "      <td>5328.0</td>\n",
       "      <td>1972.0</td>\n",
       "      <td>91.60</td>\n",
       "      <td>6037.0</td>\n",
       "    </tr>\n",
       "    <tr>\n",
       "      <th>14</th>\n",
       "      <td>14</td>\n",
       "      <td>0.0</td>\n",
       "      <td>0.0</td>\n",
       "      <td>171.0</td>\n",
       "      <td>6920.0</td>\n",
       "      <td>1973.0</td>\n",
       "      <td>255.17</td>\n",
       "      <td>6037.0</td>\n",
       "    </tr>\n",
       "  </tbody>\n",
       "</table>\n",
       "</div>"
      ],
      "text/plain": [
       "    Unnamed: 0  bedroomcnt  bathroomcnt  calculatedfinishedsquarefeet  \\\n",
       "4            4         4.0          2.0                        3633.0   \n",
       "6            6         3.0          4.0                        1620.0   \n",
       "7            7         3.0          2.0                        2077.0   \n",
       "11          11         0.0          0.0                        1200.0   \n",
       "14          14         0.0          0.0                         171.0   \n",
       "\n",
       "    taxvaluedollarcnt  yearbuilt  taxamount    fips  \n",
       "4            296425.0     2005.0    6941.39  6037.0  \n",
       "6            847770.0     2011.0   10244.94  6037.0  \n",
       "7            646760.0     1926.0    7924.68  6037.0  \n",
       "11             5328.0     1972.0      91.60  6037.0  \n",
       "14             6920.0     1973.0     255.17  6037.0  "
      ]
     },
     "execution_count": 8,
     "metadata": {},
     "output_type": "execute_result"
    }
   ],
   "source": [
    "df.head()"
   ]
  },
  {
   "cell_type": "code",
   "execution_count": null,
   "id": "4c298368",
   "metadata": {},
   "outputs": [],
   "source": []
  }
 ],
 "metadata": {
  "kernelspec": {
   "display_name": "Python 3 (ipykernel)",
   "language": "python",
   "name": "python3"
  },
  "language_info": {
   "codemirror_mode": {
    "name": "ipython",
    "version": 3
   },
   "file_extension": ".py",
   "mimetype": "text/x-python",
   "name": "python",
   "nbconvert_exporter": "python",
   "pygments_lexer": "ipython3",
   "version": "3.9.12"
  }
 },
 "nbformat": 4,
 "nbformat_minor": 5
}
